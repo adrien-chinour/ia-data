{
  "nbformat": 4,
  "nbformat_minor": 0,
  "metadata": {
    "colab": {
      "name": "regression-lineaire.ipynb",
      "provenance": [],
      "collapsed_sections": [],
      "include_colab_link": true
    },
    "kernelspec": {
      "name": "python3",
      "display_name": "Python 3"
    }
  },
  "cells": [
    {
      "cell_type": "markdown",
      "metadata": {
        "id": "view-in-github",
        "colab_type": "text"
      },
      "source": [
        "<a href=\"https://colab.research.google.com/github/adrien-chinour/ia-data/blob/master/regression_lineaire.ipynb\" target=\"_parent\"><img src=\"https://colab.research.google.com/assets/colab-badge.svg\" alt=\"Open In Colab\"/></a>"
      ]
    },
    {
      "cell_type": "markdown",
      "metadata": {
        "id": "xBRWFcrXWeUp",
        "colab_type": "text"
      },
      "source": [
        "# Regression linéaire"
      ]
    },
    {
      "cell_type": "markdown",
      "metadata": {
        "id": "_FBWEhKRWfvw",
        "colab_type": "text"
      },
      "source": [
        "## Regression simple"
      ]
    },
    {
      "cell_type": "markdown",
      "metadata": {
        "id": "5_vGxWVbWlxH",
        "colab_type": "text"
      },
      "source": [
        "### Exercice 1\n",
        "\n",
        "1. Tracer le nuage de points et estimer le coefficient de corrélation linéaire.\n",
        "2. Etablir la droite de régression correspondant à ce problème et tracer cette droite.\n",
        "3. Tester la significativité de la régression au risque 5%.\n",
        "4. Calculer le coefficient de détermination.\n",
        "5. Quel serait le chiffre d’affaires mensuel prédit par le modèle pour un budget publicitaire mensuel\n",
        "de 400 euros ? de 4000 euros ?"
      ]
    },
    {
      "cell_type": "code",
      "metadata": {
        "id": "MIg28AgJWvuz",
        "colab_type": "code",
        "outputId": "330bb88a-9461-449f-e5a0-15dd96330eac",
        "colab": {
          "base_uri": "https://localhost:8080/",
          "height": 204
        }
      },
      "source": [
        "import pandas as pa\n",
        "data = pa.read_csv('http://adrien.chinour.emi.u-bordeaux.fr/datasets/dataset.csv',header=0)\n",
        "data.head()"
      ],
      "execution_count": 2,
      "outputs": [
        {
          "output_type": "execute_result",
          "data": {
            "text/html": [
              "<div>\n",
              "<style scoped>\n",
              "    .dataframe tbody tr th:only-of-type {\n",
              "        vertical-align: middle;\n",
              "    }\n",
              "\n",
              "    .dataframe tbody tr th {\n",
              "        vertical-align: top;\n",
              "    }\n",
              "\n",
              "    .dataframe thead th {\n",
              "        text-align: right;\n",
              "    }\n",
              "</style>\n",
              "<table border=\"1\" class=\"dataframe\">\n",
              "  <thead>\n",
              "    <tr style=\"text-align: right;\">\n",
              "      <th></th>\n",
              "      <th>CA</th>\n",
              "      <th>pub</th>\n",
              "    </tr>\n",
              "  </thead>\n",
              "  <tbody>\n",
              "    <tr>\n",
              "      <th>0</th>\n",
              "      <td>220</td>\n",
              "      <td>2.6</td>\n",
              "    </tr>\n",
              "    <tr>\n",
              "      <th>1</th>\n",
              "      <td>280</td>\n",
              "      <td>2.6</td>\n",
              "    </tr>\n",
              "    <tr>\n",
              "      <th>2</th>\n",
              "      <td>250</td>\n",
              "      <td>2.4</td>\n",
              "    </tr>\n",
              "    <tr>\n",
              "      <th>3</th>\n",
              "      <td>170</td>\n",
              "      <td>1.5</td>\n",
              "    </tr>\n",
              "    <tr>\n",
              "      <th>4</th>\n",
              "      <td>150</td>\n",
              "      <td>0.9</td>\n",
              "    </tr>\n",
              "  </tbody>\n",
              "</table>\n",
              "</div>"
            ],
            "text/plain": [
              "    CA  pub\n",
              "0  220  2.6\n",
              "1  280  2.6\n",
              "2  250  2.4\n",
              "3  170  1.5\n",
              "4  150  0.9"
            ]
          },
          "metadata": {
            "tags": []
          },
          "execution_count": 2
        }
      ]
    },
    {
      "cell_type": "code",
      "metadata": {
        "id": "LIIcYP8bXp4w",
        "colab_type": "code",
        "colab": {}
      },
      "source": [
        "#On découpe les données en X et en Y:\n",
        "X = data['CA']\n",
        "Y = data['pub']"
      ],
      "execution_count": 0,
      "outputs": []
    },
    {
      "cell_type": "code",
      "metadata": {
        "id": "vvce3FGhXiQP",
        "colab_type": "code",
        "outputId": "34f88d2a-f8b2-4715-a399-47c7a4b48224",
        "colab": {
          "base_uri": "https://localhost:8080/",
          "height": 265
        }
      },
      "source": [
        "#On peut visualiser les données :\n",
        "import matplotlib.pyplot as plt\n",
        "axes = plt.axes()\n",
        "#On dessine une grille pour une meilleur lecture du graphique :\n",
        "axes.grid()\n",
        "#On définit les axes : il s'agit de notre X et de notre Y :\n",
        "plt.scatter(X,Y)\n",
        "plt.show()"
      ],
      "execution_count": 0,
      "outputs": [
        {
          "output_type": "display_data",
          "data": {
            "image/png": "[encoded data removed]",
            "text/plain": [
              "<Figure size 432x288 with 1 Axes>"
            ]
          },
          "metadata": {
            "tags": []
          }
        }
      ]
    },
    {
      "cell_type": "code",
      "metadata": {
        "id": "uUjuogClXxbM",
        "colab_type": "code",
        "colab": {}
      },
      "source": [
        "from scipy import stats\n",
        "slope, intercept, r_value, p_value, std_err = stats.linregress(X,Y)"
      ],
      "execution_count": 0,
      "outputs": []
    },
    {
      "cell_type": "code",
      "metadata": {
        "id": "ivkgKmg5X0Jv",
        "colab_type": "code",
        "outputId": "096a83a2-46a1-42d7-e0eb-2198e8fca101",
        "colab": {
          "base_uri": "https://localhost:8080/",
          "height": 34
        }
      },
      "source": [
        "# coefficient de corrélation\n",
        "print('Coef. de corrélation : ', r_value)"
      ],
      "execution_count": 0,
      "outputs": [
        {
          "output_type": "stream",
          "text": [
            "Coef. de corrélation :  0.8937577901006998\n"
          ],
          "name": "stdout"
        }
      ]
    },
    {
      "cell_type": "code",
      "metadata": {
        "id": "nmzt-fyuX3BP",
        "colab_type": "code",
        "outputId": "46d51aa8-2760-47a9-c531-c76d933b370b",
        "colab": {
          "base_uri": "https://localhost:8080/",
          "height": 51
        }
      },
      "source": [
        "# modèle de regression\n",
        "print('modèle de régression : ')\n",
        "print ('Y = ', slope,' * X + ', intercept)"
      ],
      "execution_count": 0,
      "outputs": [
        {
          "output_type": "stream",
          "text": [
            "modèle de régression : \n",
            "Y =  0.009138888888888889  * X +  0.058055555555555305\n"
          ],
          "name": "stdout"
        }
      ]
    },
    {
      "cell_type": "code",
      "metadata": {
        "id": "jf9OHnb5X5bt",
        "colab_type": "code",
        "colab": {}
      },
      "source": [
        "# fonction de prediction des valeurs de X\n",
        "def predict(x):\n",
        "    return slope * x + intercept"
      ],
      "execution_count": 0,
      "outputs": []
    },
    {
      "cell_type": "code",
      "metadata": {
        "id": "qCBDi2TaX7k2",
        "colab_type": "code",
        "outputId": "f693c99d-e83f-4a49-dbec-a6af1109f2d8",
        "colab": {
          "base_uri": "https://localhost:8080/",
          "height": 265
        }
      },
      "source": [
        "#On prédit à présent les valeurs de X:\n",
        "fitline = predict(X)\n",
        "fitline.head()\n",
        "#Et on dessine le nuage ainsi que la ligne de régression :\n",
        "plt.scatter(X, fitline)\n",
        "plt.scatter(X,Y)\n",
        "#plt.plot(X, fitline, c='r')\n",
        "\n",
        "plt.show()"
      ],
      "execution_count": 0,
      "outputs": [
        {
          "output_type": "display_data",
          "data": {
            "image/png": "[encoded data removed]",
            "text/plain": [
              "<Figure size 432x288 with 1 Axes>"
            ]
          },
          "metadata": {
            "tags": []
          }
        }
      ]
    },
    {
      "cell_type": "markdown",
      "metadata": {
        "id": "xUIo5zXasbFO",
        "colab_type": "text"
      },
      "source": [
        "### Exercice 2\n",
        "1. Tracer le nuage de points et estimer le coefficient de corrélation linéaire.\n",
        "2. Ajuster un modèle linéaire de la forme Y = aX+b+ε : établir la droite de régression correspondant à ce problème et tracer cette droite.\n",
        "3. Déterminer un intervalle de confiance au risque 5% des paramètres de la droite de régression.\n",
        "4. Tester la significativité de la régression au risque 5%.\n",
        "5. Calculer le coefficient de détermination."
      ]
    },
    {
      "cell_type": "code",
      "metadata": {
        "id": "Zt8hBl_4slcy",
        "colab_type": "code",
        "colab": {
          "base_uri": "https://localhost:8080/",
          "height": 204
        },
        "outputId": "2dff16fb-bf7b-454f-b3df-691bfec702f3"
      },
      "source": [
        "data = pa.read_csv('http://adrien.chinour.emi.u-bordeaux.fr/datasets/dataset2.csv',header=0)\n",
        "data.head()"
      ],
      "execution_count": 3,
      "outputs": [
        {
          "output_type": "execute_result",
          "data": {
            "text/html": [
              "<div>\n",
              "<style scoped>\n",
              "    .dataframe tbody tr th:only-of-type {\n",
              "        vertical-align: middle;\n",
              "    }\n",
              "\n",
              "    .dataframe tbody tr th {\n",
              "        vertical-align: top;\n",
              "    }\n",
              "\n",
              "    .dataframe thead th {\n",
              "        text-align: right;\n",
              "    }\n",
              "</style>\n",
              "<table border=\"1\" class=\"dataframe\">\n",
              "  <thead>\n",
              "    <tr style=\"text-align: right;\">\n",
              "      <th></th>\n",
              "      <th>temperature</th>\n",
              "      <th>resistance</th>\n",
              "    </tr>\n",
              "  </thead>\n",
              "  <tbody>\n",
              "    <tr>\n",
              "      <th>0</th>\n",
              "      <td>100</td>\n",
              "      <td>46</td>\n",
              "    </tr>\n",
              "    <tr>\n",
              "      <th>1</th>\n",
              "      <td>120</td>\n",
              "      <td>48</td>\n",
              "    </tr>\n",
              "    <tr>\n",
              "      <th>2</th>\n",
              "      <td>140</td>\n",
              "      <td>49</td>\n",
              "    </tr>\n",
              "    <tr>\n",
              "      <th>3</th>\n",
              "      <td>160</td>\n",
              "      <td>51</td>\n",
              "    </tr>\n",
              "    <tr>\n",
              "      <th>4</th>\n",
              "      <td>180</td>\n",
              "      <td>52</td>\n",
              "    </tr>\n",
              "  </tbody>\n",
              "</table>\n",
              "</div>"
            ],
            "text/plain": [
              "   temperature  resistance\n",
              "0          100          46\n",
              "1          120          48\n",
              "2          140          49\n",
              "3          160          51\n",
              "4          180          52"
            ]
          },
          "metadata": {
            "tags": []
          },
          "execution_count": 3
        }
      ]
    },
    {
      "cell_type": "code",
      "metadata": {
        "id": "QoedVgWVtQtM",
        "colab_type": "code",
        "colab": {}
      },
      "source": [
        "#On découpe les données en X et en Y:\n",
        "X = data['temperature']\n",
        "Y = data['resistance']"
      ],
      "execution_count": 0,
      "outputs": []
    },
    {
      "cell_type": "code",
      "metadata": {
        "id": "f6WGCHcltR_j",
        "colab_type": "code",
        "colab": {
          "base_uri": "https://localhost:8080/",
          "height": 265
        },
        "outputId": "f231d1f2-bdb2-4814-cb15-8f66afb1880b"
      },
      "source": [
        "#On peut visualiser les données :\n",
        "import matplotlib.pyplot as plt\n",
        "axes = plt.axes()\n",
        "#On dessine une grille pour une meilleur lecture du graphique :\n",
        "axes.grid()\n",
        "#On définit les axes : il s'agit de notre X et de notre Y :\n",
        "plt.scatter(X,Y)\n",
        "plt.show()"
      ],
      "execution_count": 5,
      "outputs": [
        {
          "output_type": "display_data",
          "data": {
            "image/png": "[encoded data removed]",
            "text/plain": [
              "<Figure size 432x288 with 1 Axes>"
            ]
          },
          "metadata": {
            "tags": []
          }
        }
      ]
    },
    {
      "cell_type": "code",
      "metadata": {
        "id": "75u_AujltTl1",
        "colab_type": "code",
        "colab": {}
      },
      "source": [
        "slope, intercept, r_value, p_value, std_err = stats.linregress(X,Y)\n",
        "# coefficient de corrélation\n",
        "print('Coef. de corrélation : ', r_value)\n",
        "# modèle de regression\n",
        "print('modèle de régression : ')\n",
        "print ('Y = ', slope,' * X + ', intercept, ' + ', std_err)"
      ],
      "execution_count": 0,
      "outputs": []
    },
    {
      "cell_type": "code",
      "metadata": {
        "id": "s1SVscPvtjzt",
        "colab_type": "code",
        "colab": {}
      },
      "source": [
        "def predict(x):\n",
        "    return slope * x + intercept + std_err"
      ],
      "execution_count": 0,
      "outputs": []
    },
    {
      "cell_type": "code",
      "metadata": {
        "id": "uFUY7LLxtl9Y",
        "colab_type": "code",
        "colab": {}
      },
      "source": [
        "#On prédit à présent les valeurs de X:\n",
        "fitline = predict(X)\n",
        "fitline.head()\n",
        "#Et on dessine le nuage ainsi que la ligne de régression :\n",
        "plt.scatter(X, fitline)\n",
        "plt.scatter(X,Y)\n",
        "#plt.plot(X, fitline, c='r')\n",
        "\n",
        "plt.show()"
      ],
      "execution_count": 0,
      "outputs": []
    },
    {
      "cell_type": "code",
      "metadata": {
        "id": "QA9VlrOftoCE",
        "colab_type": "code",
        "colab": {
          "base_uri": "https://localhost:8080/",
          "height": 180
        },
        "outputId": "a74b21bd-fb46-4845-8913-8dd6184c3c95"
      },
      "source": [
        "print ('R² = ', r_value**2, ' p_value = ', p_value)\n",
        "# p_value < 5%, on rejette alors H0 : la température à une influence sur la résistance."
      ],
      "execution_count": 6,
      "outputs": [
        {
          "output_type": "error",
          "ename": "NameError",
          "evalue": "ignored",
          "traceback": [
            "\u001b[0;31m---------------------------------------------------------------------------\u001b[0m",
            "\u001b[0;31mNameError\u001b[0m                                 Traceback (most recent call last)",
            "\u001b[0;32m<ipython-input-6-9e7d896c5a06>\u001b[0m in \u001b[0;36m<module>\u001b[0;34m()\u001b[0m\n\u001b[0;32m----> 1\u001b[0;31m \u001b[0mprint\u001b[0m \u001b[0;34m(\u001b[0m\u001b[0;34m'R² = '\u001b[0m\u001b[0;34m,\u001b[0m \u001b[0mr_value\u001b[0m\u001b[0;34m**\u001b[0m\u001b[0;36m2\u001b[0m\u001b[0;34m,\u001b[0m \u001b[0;34m' p_value = '\u001b[0m\u001b[0;34m,\u001b[0m \u001b[0mp_value\u001b[0m\u001b[0;34m)\u001b[0m\u001b[0;34m\u001b[0m\u001b[0;34m\u001b[0m\u001b[0m\n\u001b[0m\u001b[1;32m      2\u001b[0m \u001b[0;31m# p_value < 5%, on rejette alors H0 : la température à une influence sur la résistance.\u001b[0m\u001b[0;34m\u001b[0m\u001b[0;34m\u001b[0m\u001b[0;34m\u001b[0m\u001b[0m\n",
            "\u001b[0;31mNameError\u001b[0m: name 'r_value' is not defined"
          ]
        }
      ]
    },
    {
      "cell_type": "markdown",
      "metadata": {
        "id": "BDR7wilsuCal",
        "colab_type": "text"
      },
      "source": [
        "## Regression multiple"
      ]
    },
    {
      "cell_type": "markdown",
      "metadata": {
        "id": "iPTUUMJtuPIh",
        "colab_type": "text"
      },
      "source": [
        "### Exercice 1\n",
        "1. Y a-t-il un lien entre la valeur totale et les différents facteurs ?\n",
        "2. Afficher les valeurs des différentes statistiques desciptives.\n",
        "3. Faites les différentes régressions linéaires simples possibles, et choisissez la (ou les) plus pertinente(s).\n",
        "4. Faites la régression multiple de la Valeur totale en fonction des autres facteurs (quand c’est possible). Analysez les résultats obtenus."
      ]
    },
    {
      "cell_type": "code",
      "metadata": {
        "id": "0ZE5N_ZWuSfp",
        "colab_type": "code",
        "colab": {}
      },
      "source": [
        "data = pa.read_csv('http://adrien.chinour.emi.u-bordeaux.fr/datasets/proprietes.csv',header=0)\n",
        "data.head()"
      ],
      "execution_count": 0,
      "outputs": []
    },
    {
      "cell_type": "code",
      "metadata": {
        "id": "bMmOzsZdumy9",
        "colab_type": "code",
        "colab": {}
      },
      "source": [
        "Y = data['Valeur Totale']\n",
        "X = data[['Valeur Terrain', 'Acre', 'Pied2', 'Pièces', 'Chambre', 'SbainsC', 'Sbains', 'Foyers']]"
      ],
      "execution_count": 0,
      "outputs": []
    },
    {
      "cell_type": "code",
      "metadata": {
        "id": "NX0CnZYjund2",
        "colab_type": "code",
        "colab": {}
      },
      "source": [
        "from sklearn.linear_model import LinearRegression\n",
        "model = LinearRegression()\n",
        "model.fit(X, Y)"
      ],
      "execution_count": 0,
      "outputs": []
    },
    {
      "cell_type": "code",
      "metadata": {
        "id": "dTZPcI9rupwO",
        "colab_type": "code",
        "colab": {}
      },
      "source": [
        "print(model.intercept_)"
      ],
      "execution_count": 0,
      "outputs": []
    },
    {
      "cell_type": "code",
      "metadata": {
        "id": "u27G0YequstO",
        "colab_type": "code",
        "colab": {}
      },
      "source": [
        "print(model.coef_)"
      ],
      "execution_count": 0,
      "outputs": []
    },
    {
      "cell_type": "code",
      "metadata": {
        "id": "SlJ_4eYnuvSj",
        "colab_type": "code",
        "colab": {}
      },
      "source": [
        "from statsmodels.regression.linear_model import OLS\n",
        "m = OLS(Y,X)\n",
        "results = m.fit()\n",
        "su = results.summary()\n",
        "print(su)"
      ],
      "execution_count": 0,
      "outputs": []
    },
    {
      "cell_type": "code",
      "metadata": {
        "id": "jojYKnlNuw-Y",
        "colab_type": "code",
        "colab": {}
      },
      "source": [
        "def predict(x):\n",
        "    return model.coef_ * x + model.intercept_"
      ],
      "execution_count": 0,
      "outputs": []
    }
  ]
}