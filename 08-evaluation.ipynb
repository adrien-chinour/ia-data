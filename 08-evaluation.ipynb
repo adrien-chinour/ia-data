{
  "nbformat": 4,
  "nbformat_minor": 0,
  "metadata": {
    "colab": {
      "name": "td8.ipynb",
      "provenance": [],
      "collapsed_sections": [
        "h8gISk0VzpfZ",
        "SyXwpmDrzulx",
        "5_TDpY_hktRB",
        "2lxB1gKzjA9V"
      ],
      "include_colab_link": true
    },
    "kernelspec": {
      "name": "python3",
      "display_name": "Python 3"
    }
  },
  "cells": [
    {
      "cell_type": "markdown",
      "metadata": {
        "id": "view-in-github",
        "colab_type": "text"
      },
      "source": [
        "<a href=\"https://colab.research.google.com/github/adrien-chinour/ia-data/blob/master/08-evaluation.ipynb\" target=\"_parent\"><img src=\"https://colab.research.google.com/assets/colab-badge.svg\" alt=\"Open In Colab\"/></a>"
      ]
    },
    {
      "cell_type": "markdown",
      "metadata": {
        "id": "k4kLb9mozj35",
        "colab_type": "text"
      },
      "source": [
        "# IA et Data : Révision & Devoir"
      ]
    },
    {
      "cell_type": "code",
      "metadata": {
        "id": "PeVDQB3p0Akj",
        "colab_type": "code",
        "colab": {}
      },
      "source": [
        "import pandas as pa\n",
        "import seaborn as sns\n",
        "import matplotlib.pyplot as plt\n",
        "import statsmodels.formula.api as smf\n",
        "import statsmodels.api as sm\n",
        "\n",
        "from sklearn.linear_model import LinearRegression\n",
        "from sklearn import preprocessing\n",
        "from statsmodels.regression.linear_model import OLS\n",
        "\n",
        "from sklearn.model_selection import train_test_split\n",
        "from sklearn.naive_bayes import GaussianNB\n",
        "from sklearn import metrics\n",
        "from sklearn import tree\n",
        "from sklearn.tree import DecisionTreeClassifier"
      ],
      "execution_count": 0,
      "outputs": []
    },
    {
      "cell_type": "markdown",
      "metadata": {
        "id": "h8gISk0VzpfZ",
        "colab_type": "text"
      },
      "source": [
        "## Exercice 1 : ANOVA"
      ]
    },
    {
      "cell_type": "code",
      "metadata": {
        "id": "6DO3MR4JztOR",
        "colab_type": "code",
        "outputId": "a9721cc9-8962-4279-8d20-5c10b081e59f",
        "colab": {
          "base_uri": "https://localhost:8080/",
          "height": 0
        }
      },
      "source": [
        "dataset_anova = pa.read_csv('https://www.labri.fr/perso/zemmari/datasets/car_data.csv',header=0)\n",
        "dataset_anova.head()"
      ],
      "execution_count": 100,
      "outputs": [
        {
          "output_type": "execute_result",
          "data": {
            "text/html": [
              "<div>\n",
              "<style scoped>\n",
              "    .dataframe tbody tr th:only-of-type {\n",
              "        vertical-align: middle;\n",
              "    }\n",
              "\n",
              "    .dataframe tbody tr th {\n",
              "        vertical-align: top;\n",
              "    }\n",
              "\n",
              "    .dataframe thead th {\n",
              "        text-align: right;\n",
              "    }\n",
              "</style>\n",
              "<table border=\"1\" class=\"dataframe\">\n",
              "  <thead>\n",
              "    <tr style=\"text-align: right;\">\n",
              "      <th></th>\n",
              "      <th>Car_Name</th>\n",
              "      <th>Year</th>\n",
              "      <th>Selling_Price</th>\n",
              "      <th>Present_Price</th>\n",
              "      <th>Kms_Driven</th>\n",
              "      <th>Fuel_Type</th>\n",
              "      <th>Seller_Type</th>\n",
              "      <th>Transmission</th>\n",
              "      <th>Owner</th>\n",
              "    </tr>\n",
              "  </thead>\n",
              "  <tbody>\n",
              "    <tr>\n",
              "      <th>0</th>\n",
              "      <td>ritz</td>\n",
              "      <td>2014</td>\n",
              "      <td>3.35</td>\n",
              "      <td>5.59</td>\n",
              "      <td>27000</td>\n",
              "      <td>Petrol</td>\n",
              "      <td>Dealer</td>\n",
              "      <td>Manual</td>\n",
              "      <td>0</td>\n",
              "    </tr>\n",
              "    <tr>\n",
              "      <th>1</th>\n",
              "      <td>sx4</td>\n",
              "      <td>2013</td>\n",
              "      <td>4.75</td>\n",
              "      <td>9.54</td>\n",
              "      <td>43000</td>\n",
              "      <td>Diesel</td>\n",
              "      <td>Dealer</td>\n",
              "      <td>Manual</td>\n",
              "      <td>0</td>\n",
              "    </tr>\n",
              "    <tr>\n",
              "      <th>2</th>\n",
              "      <td>ciaz</td>\n",
              "      <td>2017</td>\n",
              "      <td>7.25</td>\n",
              "      <td>9.85</td>\n",
              "      <td>6900</td>\n",
              "      <td>Petrol</td>\n",
              "      <td>Dealer</td>\n",
              "      <td>Manual</td>\n",
              "      <td>0</td>\n",
              "    </tr>\n",
              "    <tr>\n",
              "      <th>3</th>\n",
              "      <td>wagon r</td>\n",
              "      <td>2011</td>\n",
              "      <td>2.85</td>\n",
              "      <td>4.15</td>\n",
              "      <td>5200</td>\n",
              "      <td>Petrol</td>\n",
              "      <td>Dealer</td>\n",
              "      <td>Manual</td>\n",
              "      <td>0</td>\n",
              "    </tr>\n",
              "    <tr>\n",
              "      <th>4</th>\n",
              "      <td>swift</td>\n",
              "      <td>2014</td>\n",
              "      <td>4.60</td>\n",
              "      <td>6.87</td>\n",
              "      <td>42450</td>\n",
              "      <td>Diesel</td>\n",
              "      <td>Dealer</td>\n",
              "      <td>Manual</td>\n",
              "      <td>0</td>\n",
              "    </tr>\n",
              "  </tbody>\n",
              "</table>\n",
              "</div>"
            ],
            "text/plain": [
              "  Car_Name  Year  Selling_Price  ...  Seller_Type  Transmission Owner\n",
              "0     ritz  2014           3.35  ...       Dealer        Manual     0\n",
              "1      sx4  2013           4.75  ...       Dealer        Manual     0\n",
              "2     ciaz  2017           7.25  ...       Dealer        Manual     0\n",
              "3  wagon r  2011           2.85  ...       Dealer        Manual     0\n",
              "4    swift  2014           4.60  ...       Dealer        Manual     0\n",
              "\n",
              "[5 rows x 9 columns]"
            ]
          },
          "metadata": {
            "tags": []
          },
          "execution_count": 100
        }
      ]
    },
    {
      "cell_type": "markdown",
      "metadata": {
        "id": "6iJIKVdg17J2",
        "colab_type": "text"
      },
      "source": [
        "\n",
        "\n",
        "On souhaite savoir si le mode de transmission a un impact sur le prix affiché à la vitrine.\n",
        "\n",
        "On peut visualiser l'influence du mode de transmission en affichant les boîtes à moustaches :\n"
      ]
    },
    {
      "cell_type": "code",
      "metadata": {
        "id": "LePusAyd0zvH",
        "colab_type": "code",
        "outputId": "5bd4dca4-cf56-41ce-e9f2-81d9e174fa74",
        "colab": {
          "base_uri": "https://localhost:8080/",
          "height": 0
        }
      },
      "source": [
        "sns.set()\n",
        "\n",
        "ax = sns.boxplot(x=\"Transmission\", y=\"Present_Price\", data=dataset_anova, color='yellow')\n",
        "plt.xlabel('Transmission')\n",
        "plt.ylabel('Prix vitrine')\n",
        "plt.title('Boîtes à moustaches')\n",
        "plt.show()"
      ],
      "execution_count": 101,
      "outputs": [
        {
          "output_type": "display_data",
          "data": {
            "image/png": "[encoded data removed]",
            "text/plain": [
              "<Figure size 432x288 with 1 Axes>"
            ]
          },
          "metadata": {
            "tags": []
          }
        }
      ]
    },
    {
      "cell_type": "markdown",
      "metadata": {
        "id": "f6QAU2jX2l79",
        "colab_type": "text"
      },
      "source": [
        "Les boites à moustache semblent indiquer que le mode de transmission influe sur le prix vitrine. On remarque que le 3ème quartile de la boite à moustache sur la transmission manuelle correspond au premier quartile de la boite à moustache sur la transmission automatique.\n",
        "\n",
        "> On a donc 75% des voitures manuelles avec un prix inférieur à 75% des voitures automatiques."
      ]
    },
    {
      "cell_type": "markdown",
      "metadata": {
        "id": "-QTzNuck4ad6",
        "colab_type": "text"
      },
      "source": [
        "### Réalisation du test de Fisher\n",
        "\n",
        "On pose les hypothèses :\n",
        "- `HO` : Le mode de transmission du véhicule n'a pas d'influence sur son prix en vitrine\n",
        "- `H1` : Le mode de transmission du véhicule a une influence sur son prix \n"
      ]
    },
    {
      "cell_type": "code",
      "metadata": {
        "id": "JnT1Pqzr4wYM",
        "colab_type": "code",
        "outputId": "194122d1-204b-4e8e-ed2e-4affaa50010d",
        "colab": {
          "base_uri": "https://localhost:8080/",
          "height": 0
        }
      },
      "source": [
        "# ANOVA\n",
        "anova = smf.ols('Present_Price~Transmission', data=dataset_anova).fit()\n",
        "print(anova.summary())"
      ],
      "execution_count": 102,
      "outputs": [
        {
          "output_type": "stream",
          "text": [
            "                            OLS Regression Results                            \n",
            "==============================================================================\n",
            "Dep. Variable:          Present_Price   R-squared:                       0.122\n",
            "Model:                            OLS   Adj. R-squared:                  0.119\n",
            "Method:                 Least Squares   F-statistic:                     41.39\n",
            "Date:                Sun, 08 Dec 2019   Prob (F-statistic):           4.93e-10\n",
            "Time:                        18:03:41   Log-Likelihood:                -1056.3\n",
            "No. Observations:                 301   AIC:                             2117.\n",
            "Df Residuals:                     299   BIC:                             2124.\n",
            "Df Model:                           1                                         \n",
            "Covariance Type:            nonrobust                                         \n",
            "==========================================================================================\n",
            "                             coef    std err          t      P>|t|      [0.025      0.975]\n",
            "------------------------------------------------------------------------------------------\n",
            "Intercept                 15.3155      1.283     11.936      0.000      12.790      17.841\n",
            "Transmission[T.Manual]    -8.8651      1.378     -6.434      0.000     -11.577      -6.153\n",
            "==============================================================================\n",
            "Omnibus:                      321.255   Durbin-Watson:                   1.074\n",
            "Prob(Omnibus):                  0.000   Jarque-Bera (JB):            22285.842\n",
            "Skew:                           4.276   Prob(JB):                         0.00\n",
            "Kurtosis:                      44.277   Cond. No.                         5.31\n",
            "==============================================================================\n",
            "\n",
            "Warnings:\n",
            "[1] Standard Errors assume that the covariance matrix of the errors is correctly specified.\n"
          ],
          "name": "stdout"
        }
      ]
    },
    {
      "cell_type": "markdown",
      "metadata": {
        "id": "eP19EQOr5PXu",
        "colab_type": "text"
      },
      "source": [
        "Ici, la p_valeur (F-statistic sur le résumé) est de 4.93e-10, soit un résultat inferieur à 5%.\n",
        "\n",
        "On rejete donc l'hypothese H0 selon laquelle le mode de transmission n'aurai pas d'influence sur le prix vitrine.\n",
        "\n",
        "Tableau d'analyse de la variance :"
      ]
    },
    {
      "cell_type": "code",
      "metadata": {
        "id": "s-Ubpto45GPz",
        "colab_type": "code",
        "outputId": "8b069002-daab-4b65-8a96-0fe14de13c2e",
        "colab": {
          "base_uri": "https://localhost:8080/",
          "height": 0
        }
      },
      "source": [
        "sm.stats.anova_lm(anova, typ=2)"
      ],
      "execution_count": 103,
      "outputs": [
        {
          "output_type": "execute_result",
          "data": {
            "text/html": [
              "<div>\n",
              "<style scoped>\n",
              "    .dataframe tbody tr th:only-of-type {\n",
              "        vertical-align: middle;\n",
              "    }\n",
              "\n",
              "    .dataframe tbody tr th {\n",
              "        vertical-align: top;\n",
              "    }\n",
              "\n",
              "    .dataframe thead th {\n",
              "        text-align: right;\n",
              "    }\n",
              "</style>\n",
              "<table border=\"1\" class=\"dataframe\">\n",
              "  <thead>\n",
              "    <tr style=\"text-align: right;\">\n",
              "      <th></th>\n",
              "      <th>sum_sq</th>\n",
              "      <th>df</th>\n",
              "      <th>F</th>\n",
              "      <th>PR(&gt;F)</th>\n",
              "    </tr>\n",
              "  </thead>\n",
              "  <tbody>\n",
              "    <tr>\n",
              "      <th>Transmission</th>\n",
              "      <td>2725.856145</td>\n",
              "      <td>1.0</td>\n",
              "      <td>41.39238</td>\n",
              "      <td>4.934747e-10</td>\n",
              "    </tr>\n",
              "    <tr>\n",
              "      <th>Residual</th>\n",
              "      <td>19690.363180</td>\n",
              "      <td>299.0</td>\n",
              "      <td>NaN</td>\n",
              "      <td>NaN</td>\n",
              "    </tr>\n",
              "  </tbody>\n",
              "</table>\n",
              "</div>"
            ],
            "text/plain": [
              "                    sum_sq     df         F        PR(>F)\n",
              "Transmission   2725.856145    1.0  41.39238  4.934747e-10\n",
              "Residual      19690.363180  299.0       NaN           NaN"
            ]
          },
          "metadata": {
            "tags": []
          },
          "execution_count": 103
        }
      ]
    },
    {
      "cell_type": "markdown",
      "metadata": {
        "id": "SyXwpmDrzulx",
        "colab_type": "text"
      },
      "source": [
        "## Exercice 2 : Régression linéaire multiple\n",
        "\n"
      ]
    },
    {
      "cell_type": "code",
      "metadata": {
        "id": "EsRyB80pzzDT",
        "colab_type": "code",
        "outputId": "3ffc3e32-ec28-492d-bdf2-a5892fb3f032",
        "colab": {
          "base_uri": "https://localhost:8080/",
          "height": 204
        }
      },
      "source": [
        "dataset_reg = pa.read_csv('https://www.labri.fr/perso/zemmari/datasets/car_data.csv',header=0)\n",
        "\n",
        "for column in dataset_reg.columns:\n",
        "    if dataset_reg[column].dtype == type(str):\n",
        "        le = preprocessing.LabelEncoder()\n",
        "        dataset_reg[column] = le.fit_transform(dataset_reg[column])\n",
        "\n",
        "dataset_reg.head()\n"
      ],
      "execution_count": 104,
      "outputs": [
        {
          "output_type": "execute_result",
          "data": {
            "text/html": [
              "<div>\n",
              "<style scoped>\n",
              "    .dataframe tbody tr th:only-of-type {\n",
              "        vertical-align: middle;\n",
              "    }\n",
              "\n",
              "    .dataframe tbody tr th {\n",
              "        vertical-align: top;\n",
              "    }\n",
              "\n",
              "    .dataframe thead th {\n",
              "        text-align: right;\n",
              "    }\n",
              "</style>\n",
              "<table border=\"1\" class=\"dataframe\">\n",
              "  <thead>\n",
              "    <tr style=\"text-align: right;\">\n",
              "      <th></th>\n",
              "      <th>Car_Name</th>\n",
              "      <th>Year</th>\n",
              "      <th>Selling_Price</th>\n",
              "      <th>Present_Price</th>\n",
              "      <th>Kms_Driven</th>\n",
              "      <th>Fuel_Type</th>\n",
              "      <th>Seller_Type</th>\n",
              "      <th>Transmission</th>\n",
              "      <th>Owner</th>\n",
              "    </tr>\n",
              "  </thead>\n",
              "  <tbody>\n",
              "    <tr>\n",
              "      <th>0</th>\n",
              "      <td>90</td>\n",
              "      <td>2014</td>\n",
              "      <td>3.35</td>\n",
              "      <td>5.59</td>\n",
              "      <td>27000</td>\n",
              "      <td>2</td>\n",
              "      <td>0</td>\n",
              "      <td>1</td>\n",
              "      <td>0</td>\n",
              "    </tr>\n",
              "    <tr>\n",
              "      <th>1</th>\n",
              "      <td>93</td>\n",
              "      <td>2013</td>\n",
              "      <td>4.75</td>\n",
              "      <td>9.54</td>\n",
              "      <td>43000</td>\n",
              "      <td>1</td>\n",
              "      <td>0</td>\n",
              "      <td>1</td>\n",
              "      <td>0</td>\n",
              "    </tr>\n",
              "    <tr>\n",
              "      <th>2</th>\n",
              "      <td>68</td>\n",
              "      <td>2017</td>\n",
              "      <td>7.25</td>\n",
              "      <td>9.85</td>\n",
              "      <td>6900</td>\n",
              "      <td>2</td>\n",
              "      <td>0</td>\n",
              "      <td>1</td>\n",
              "      <td>0</td>\n",
              "    </tr>\n",
              "    <tr>\n",
              "      <th>3</th>\n",
              "      <td>96</td>\n",
              "      <td>2011</td>\n",
              "      <td>2.85</td>\n",
              "      <td>4.15</td>\n",
              "      <td>5200</td>\n",
              "      <td>2</td>\n",
              "      <td>0</td>\n",
              "      <td>1</td>\n",
              "      <td>0</td>\n",
              "    </tr>\n",
              "    <tr>\n",
              "      <th>4</th>\n",
              "      <td>92</td>\n",
              "      <td>2014</td>\n",
              "      <td>4.60</td>\n",
              "      <td>6.87</td>\n",
              "      <td>42450</td>\n",
              "      <td>1</td>\n",
              "      <td>0</td>\n",
              "      <td>1</td>\n",
              "      <td>0</td>\n",
              "    </tr>\n",
              "  </tbody>\n",
              "</table>\n",
              "</div>"
            ],
            "text/plain": [
              "   Car_Name  Year  Selling_Price  ...  Seller_Type  Transmission  Owner\n",
              "0        90  2014           3.35  ...            0             1      0\n",
              "1        93  2013           4.75  ...            0             1      0\n",
              "2        68  2017           7.25  ...            0             1      0\n",
              "3        96  2011           2.85  ...            0             1      0\n",
              "4        92  2014           4.60  ...            0             1      0\n",
              "\n",
              "[5 rows x 9 columns]"
            ]
          },
          "metadata": {
            "tags": []
          },
          "execution_count": 104
        }
      ]
    },
    {
      "cell_type": "markdown",
      "metadata": {
        "id": "KhGf8H-V6wCH",
        "colab_type": "text"
      },
      "source": [
        "On cherche ici à réaliser une régression linéaire multiple. Pour cela on utilise uniquement les variables de type numérique : \n",
        "> Year, Selling_Price, Kms_Driven, Owner"
      ]
    },
    {
      "cell_type": "code",
      "metadata": {
        "id": "BU-wpWbS7vmS",
        "colab_type": "code",
        "colab": {}
      },
      "source": [
        "Y = dataset_reg['Present_Price']\n",
        "X = dataset_reg[['Year', 'Selling_Price', 'Kms_Driven', 'Fuel_Type',\t'Seller_Type',\t'Transmission', 'Owner']]"
      ],
      "execution_count": 0,
      "outputs": []
    },
    {
      "cell_type": "code",
      "metadata": {
        "id": "5OPIkh8m9W7U",
        "colab_type": "code",
        "outputId": "60835b90-2306-47f8-d8bc-c85692570686",
        "colab": {
          "base_uri": "https://localhost:8080/",
          "height": 561
        }
      },
      "source": [
        "# Détail de notre modèle de régression\n",
        "m = OLS(Y,X)\n",
        "results = m.fit()\n",
        "su = results.summary()\n",
        "print(su)"
      ],
      "execution_count": 106,
      "outputs": [
        {
          "output_type": "stream",
          "text": [
            "                                 OLS Regression Results                                \n",
            "=======================================================================================\n",
            "Dep. Variable:          Present_Price   R-squared (uncentered):                   0.894\n",
            "Model:                            OLS   Adj. R-squared (uncentered):              0.892\n",
            "Method:                 Least Squares   F-statistic:                              355.1\n",
            "Date:                Sun, 08 Dec 2019   Prob (F-statistic):                   2.34e-139\n",
            "Time:                        18:03:41   Log-Likelihood:                         -824.62\n",
            "No. Observations:                 301   AIC:                                      1663.\n",
            "Df Residuals:                     294   BIC:                                      1689.\n",
            "Df Model:                           7                                                  \n",
            "Covariance Type:            nonrobust                                                  \n",
            "=================================================================================\n",
            "                    coef    std err          t      P>|t|      [0.025      0.975]\n",
            "---------------------------------------------------------------------------------\n",
            "Year             -0.0015      0.001     -1.781      0.076      -0.003       0.000\n",
            "Selling_Price     1.5214      0.063     24.184      0.000       1.398       1.645\n",
            "Kms_Driven     3.965e-05   5.88e-06      6.738      0.000    2.81e-05    5.12e-05\n",
            "Fuel_Type         1.0409      0.616      1.689      0.092      -0.172       2.254\n",
            "Seller_Type      -0.5213      0.565     -0.922      0.357      -1.634       0.591\n",
            "Transmission      0.2694      0.725      0.371      0.711      -1.158       1.697\n",
            "Owner             2.5240      0.896      2.817      0.005       0.760       4.287\n",
            "==============================================================================\n",
            "Omnibus:                      280.702   Durbin-Watson:                   1.676\n",
            "Prob(Omnibus):                  0.000   Jarque-Bera (JB):            17170.178\n",
            "Skew:                           3.428   Prob(JB):                         0.00\n",
            "Kurtosis:                      39.360   Cond. No.                     2.21e+05\n",
            "==============================================================================\n",
            "\n",
            "Warnings:\n",
            "[1] Standard Errors assume that the covariance matrix of the errors is correctly specified.\n",
            "[2] The condition number is large, 2.21e+05. This might indicate that there are\n",
            "strong multicollinearity or other numerical problems.\n"
          ],
          "name": "stdout"
        }
      ]
    },
    {
      "cell_type": "markdown",
      "metadata": {
        "id": "zY6KQA6OCQvA",
        "colab_type": "text"
      },
      "source": [
        "On conserve les valeurs qui possèdent une p-value inférieur à `0.05` (5%).\n",
        "\n",
        "On retire donc les colonnes qui ont été converti : Fuel_Type\tSeller_Type\tTransmission"
      ]
    },
    {
      "cell_type": "code",
      "metadata": {
        "id": "IVo_r38j_MNS",
        "colab_type": "code",
        "colab": {}
      },
      "source": [
        "X = dataset_reg[['Year', 'Selling_Price', 'Kms_Driven', 'Owner']]\n",
        "\n",
        "# Construction du modèle de régression multiple\n",
        "model = LinearRegression()\n",
        "model.fit(X, Y)\n",
        "\n",
        "# On utilise notre modèle pour prédire le prix vitrine\n",
        "def predict(x):\n",
        "    return (model.coef_ * x ) + model.intercept_"
      ],
      "execution_count": 0,
      "outputs": []
    },
    {
      "cell_type": "markdown",
      "metadata": {
        "id": "WMp7A2G-zzV5",
        "colab_type": "text"
      },
      "source": [
        "## Exercice 3 : Machine Learning"
      ]
    },
    {
      "cell_type": "markdown",
      "metadata": {
        "id": "5_TDpY_hktRB",
        "colab_type": "text"
      },
      "source": [
        "### Import du dataset"
      ]
    },
    {
      "cell_type": "code",
      "metadata": {
        "id": "sLiYR1Q__46Q",
        "colab_type": "code",
        "outputId": "3988ca72-ae02-4012-929f-9a5641f18fc4",
        "colab": {
          "base_uri": "https://localhost:8080/",
          "height": 204
        }
      },
      "source": [
        "dataset = pa.read_csv('https://www.labri.fr/perso/zemmari/datasets/car_data_2.csv',header=0, sep=';')\n",
        "dataset.head()"
      ],
      "execution_count": 108,
      "outputs": [
        {
          "output_type": "execute_result",
          "data": {
            "text/html": [
              "<div>\n",
              "<style scoped>\n",
              "    .dataframe tbody tr th:only-of-type {\n",
              "        vertical-align: middle;\n",
              "    }\n",
              "\n",
              "    .dataframe tbody tr th {\n",
              "        vertical-align: top;\n",
              "    }\n",
              "\n",
              "    .dataframe thead th {\n",
              "        text-align: right;\n",
              "    }\n",
              "</style>\n",
              "<table border=\"1\" class=\"dataframe\">\n",
              "  <thead>\n",
              "    <tr style=\"text-align: right;\">\n",
              "      <th></th>\n",
              "      <th>Car_Name</th>\n",
              "      <th>Year</th>\n",
              "      <th>Selling_Price</th>\n",
              "      <th>Present_Price</th>\n",
              "      <th>Kms_Driven</th>\n",
              "      <th>Fuel_Type</th>\n",
              "      <th>Seller_Type</th>\n",
              "      <th>Transmission</th>\n",
              "      <th>Owner</th>\n",
              "      <th>Time_Before_Sell</th>\n",
              "    </tr>\n",
              "  </thead>\n",
              "  <tbody>\n",
              "    <tr>\n",
              "      <th>0</th>\n",
              "      <td>ritz</td>\n",
              "      <td>2014</td>\n",
              "      <td>3.35</td>\n",
              "      <td>5.59</td>\n",
              "      <td>27000</td>\n",
              "      <td>Petrol</td>\n",
              "      <td>Dealer</td>\n",
              "      <td>Manual</td>\n",
              "      <td>0</td>\n",
              "      <td>2</td>\n",
              "    </tr>\n",
              "    <tr>\n",
              "      <th>1</th>\n",
              "      <td>sx4</td>\n",
              "      <td>2013</td>\n",
              "      <td>4.75</td>\n",
              "      <td>9.54</td>\n",
              "      <td>43000</td>\n",
              "      <td>Diesel</td>\n",
              "      <td>Dealer</td>\n",
              "      <td>Manual</td>\n",
              "      <td>0</td>\n",
              "      <td>2</td>\n",
              "    </tr>\n",
              "    <tr>\n",
              "      <th>2</th>\n",
              "      <td>ciaz</td>\n",
              "      <td>2017</td>\n",
              "      <td>7.25</td>\n",
              "      <td>9.85</td>\n",
              "      <td>6900</td>\n",
              "      <td>Petrol</td>\n",
              "      <td>Dealer</td>\n",
              "      <td>Manual</td>\n",
              "      <td>0</td>\n",
              "      <td>1</td>\n",
              "    </tr>\n",
              "    <tr>\n",
              "      <th>3</th>\n",
              "      <td>wagon r</td>\n",
              "      <td>2011</td>\n",
              "      <td>2.85</td>\n",
              "      <td>4.15</td>\n",
              "      <td>5200</td>\n",
              "      <td>Petrol</td>\n",
              "      <td>Dealer</td>\n",
              "      <td>Manual</td>\n",
              "      <td>0</td>\n",
              "      <td>3</td>\n",
              "    </tr>\n",
              "    <tr>\n",
              "      <th>4</th>\n",
              "      <td>swift</td>\n",
              "      <td>2014</td>\n",
              "      <td>4.60</td>\n",
              "      <td>6.87</td>\n",
              "      <td>42450</td>\n",
              "      <td>Diesel</td>\n",
              "      <td>Dealer</td>\n",
              "      <td>Manual</td>\n",
              "      <td>0</td>\n",
              "      <td>2</td>\n",
              "    </tr>\n",
              "  </tbody>\n",
              "</table>\n",
              "</div>"
            ],
            "text/plain": [
              "  Car_Name  Year  Selling_Price  ...  Transmission  Owner Time_Before_Sell\n",
              "0     ritz  2014           3.35  ...        Manual      0                2\n",
              "1      sx4  2013           4.75  ...        Manual      0                2\n",
              "2     ciaz  2017           7.25  ...        Manual      0                1\n",
              "3  wagon r  2011           2.85  ...        Manual      0                3\n",
              "4    swift  2014           4.60  ...        Manual      0                2\n",
              "\n",
              "[5 rows x 10 columns]"
            ]
          },
          "metadata": {
            "tags": []
          },
          "execution_count": 108
        }
      ]
    },
    {
      "cell_type": "code",
      "metadata": {
        "id": "OhDCbvHHAWZl",
        "colab_type": "code",
        "outputId": "83681c76-958d-4e56-80b9-c875ce6d4ac6",
        "colab": {
          "base_uri": "https://localhost:8080/",
          "height": 204
        }
      },
      "source": [
        "# On ajoute la colonne Quick_Sell\n",
        "dataset['Quick_Sell'] = dataset['Time_Before_Sell'] <= 3\n",
        "dataset.head()"
      ],
      "execution_count": 109,
      "outputs": [
        {
          "output_type": "execute_result",
          "data": {
            "text/html": [
              "<div>\n",
              "<style scoped>\n",
              "    .dataframe tbody tr th:only-of-type {\n",
              "        vertical-align: middle;\n",
              "    }\n",
              "\n",
              "    .dataframe tbody tr th {\n",
              "        vertical-align: top;\n",
              "    }\n",
              "\n",
              "    .dataframe thead th {\n",
              "        text-align: right;\n",
              "    }\n",
              "</style>\n",
              "<table border=\"1\" class=\"dataframe\">\n",
              "  <thead>\n",
              "    <tr style=\"text-align: right;\">\n",
              "      <th></th>\n",
              "      <th>Car_Name</th>\n",
              "      <th>Year</th>\n",
              "      <th>Selling_Price</th>\n",
              "      <th>Present_Price</th>\n",
              "      <th>Kms_Driven</th>\n",
              "      <th>Fuel_Type</th>\n",
              "      <th>Seller_Type</th>\n",
              "      <th>Transmission</th>\n",
              "      <th>Owner</th>\n",
              "      <th>Time_Before_Sell</th>\n",
              "      <th>Quick_Sell</th>\n",
              "    </tr>\n",
              "  </thead>\n",
              "  <tbody>\n",
              "    <tr>\n",
              "      <th>0</th>\n",
              "      <td>ritz</td>\n",
              "      <td>2014</td>\n",
              "      <td>3.35</td>\n",
              "      <td>5.59</td>\n",
              "      <td>27000</td>\n",
              "      <td>Petrol</td>\n",
              "      <td>Dealer</td>\n",
              "      <td>Manual</td>\n",
              "      <td>0</td>\n",
              "      <td>2</td>\n",
              "      <td>True</td>\n",
              "    </tr>\n",
              "    <tr>\n",
              "      <th>1</th>\n",
              "      <td>sx4</td>\n",
              "      <td>2013</td>\n",
              "      <td>4.75</td>\n",
              "      <td>9.54</td>\n",
              "      <td>43000</td>\n",
              "      <td>Diesel</td>\n",
              "      <td>Dealer</td>\n",
              "      <td>Manual</td>\n",
              "      <td>0</td>\n",
              "      <td>2</td>\n",
              "      <td>True</td>\n",
              "    </tr>\n",
              "    <tr>\n",
              "      <th>2</th>\n",
              "      <td>ciaz</td>\n",
              "      <td>2017</td>\n",
              "      <td>7.25</td>\n",
              "      <td>9.85</td>\n",
              "      <td>6900</td>\n",
              "      <td>Petrol</td>\n",
              "      <td>Dealer</td>\n",
              "      <td>Manual</td>\n",
              "      <td>0</td>\n",
              "      <td>1</td>\n",
              "      <td>True</td>\n",
              "    </tr>\n",
              "    <tr>\n",
              "      <th>3</th>\n",
              "      <td>wagon r</td>\n",
              "      <td>2011</td>\n",
              "      <td>2.85</td>\n",
              "      <td>4.15</td>\n",
              "      <td>5200</td>\n",
              "      <td>Petrol</td>\n",
              "      <td>Dealer</td>\n",
              "      <td>Manual</td>\n",
              "      <td>0</td>\n",
              "      <td>3</td>\n",
              "      <td>True</td>\n",
              "    </tr>\n",
              "    <tr>\n",
              "      <th>4</th>\n",
              "      <td>swift</td>\n",
              "      <td>2014</td>\n",
              "      <td>4.60</td>\n",
              "      <td>6.87</td>\n",
              "      <td>42450</td>\n",
              "      <td>Diesel</td>\n",
              "      <td>Dealer</td>\n",
              "      <td>Manual</td>\n",
              "      <td>0</td>\n",
              "      <td>2</td>\n",
              "      <td>True</td>\n",
              "    </tr>\n",
              "  </tbody>\n",
              "</table>\n",
              "</div>"
            ],
            "text/plain": [
              "  Car_Name  Year  Selling_Price  ...  Owner  Time_Before_Sell Quick_Sell\n",
              "0     ritz  2014           3.35  ...      0                 2       True\n",
              "1      sx4  2013           4.75  ...      0                 2       True\n",
              "2     ciaz  2017           7.25  ...      0                 1       True\n",
              "3  wagon r  2011           2.85  ...      0                 3       True\n",
              "4    swift  2014           4.60  ...      0                 2       True\n",
              "\n",
              "[5 rows x 11 columns]"
            ]
          },
          "metadata": {
            "tags": []
          },
          "execution_count": 109
        }
      ]
    },
    {
      "cell_type": "code",
      "metadata": {
        "id": "JevwD_1Ao8uf",
        "colab_type": "code",
        "colab": {
          "base_uri": "https://localhost:8080/",
          "height": 204
        },
        "outputId": "8aecaa82-4284-4480-d172-d9ec845c8c4d"
      },
      "source": [
        "for column in dataset.columns:\n",
        "    if dataset[column].dtype == type(str):\n",
        "        le = preprocessing.LabelEncoder()\n",
        "        dataset[column] = le.fit_transform(dataset[column])\n",
        "\n",
        "dataset.head()"
      ],
      "execution_count": 110,
      "outputs": [
        {
          "output_type": "execute_result",
          "data": {
            "text/html": [
              "<div>\n",
              "<style scoped>\n",
              "    .dataframe tbody tr th:only-of-type {\n",
              "        vertical-align: middle;\n",
              "    }\n",
              "\n",
              "    .dataframe tbody tr th {\n",
              "        vertical-align: top;\n",
              "    }\n",
              "\n",
              "    .dataframe thead th {\n",
              "        text-align: right;\n",
              "    }\n",
              "</style>\n",
              "<table border=\"1\" class=\"dataframe\">\n",
              "  <thead>\n",
              "    <tr style=\"text-align: right;\">\n",
              "      <th></th>\n",
              "      <th>Car_Name</th>\n",
              "      <th>Year</th>\n",
              "      <th>Selling_Price</th>\n",
              "      <th>Present_Price</th>\n",
              "      <th>Kms_Driven</th>\n",
              "      <th>Fuel_Type</th>\n",
              "      <th>Seller_Type</th>\n",
              "      <th>Transmission</th>\n",
              "      <th>Owner</th>\n",
              "      <th>Time_Before_Sell</th>\n",
              "      <th>Quick_Sell</th>\n",
              "    </tr>\n",
              "  </thead>\n",
              "  <tbody>\n",
              "    <tr>\n",
              "      <th>0</th>\n",
              "      <td>90</td>\n",
              "      <td>2014</td>\n",
              "      <td>3.35</td>\n",
              "      <td>5.59</td>\n",
              "      <td>27000</td>\n",
              "      <td>2</td>\n",
              "      <td>0</td>\n",
              "      <td>1</td>\n",
              "      <td>0</td>\n",
              "      <td>2</td>\n",
              "      <td>True</td>\n",
              "    </tr>\n",
              "    <tr>\n",
              "      <th>1</th>\n",
              "      <td>93</td>\n",
              "      <td>2013</td>\n",
              "      <td>4.75</td>\n",
              "      <td>9.54</td>\n",
              "      <td>43000</td>\n",
              "      <td>1</td>\n",
              "      <td>0</td>\n",
              "      <td>1</td>\n",
              "      <td>0</td>\n",
              "      <td>2</td>\n",
              "      <td>True</td>\n",
              "    </tr>\n",
              "    <tr>\n",
              "      <th>2</th>\n",
              "      <td>68</td>\n",
              "      <td>2017</td>\n",
              "      <td>7.25</td>\n",
              "      <td>9.85</td>\n",
              "      <td>6900</td>\n",
              "      <td>2</td>\n",
              "      <td>0</td>\n",
              "      <td>1</td>\n",
              "      <td>0</td>\n",
              "      <td>1</td>\n",
              "      <td>True</td>\n",
              "    </tr>\n",
              "    <tr>\n",
              "      <th>3</th>\n",
              "      <td>96</td>\n",
              "      <td>2011</td>\n",
              "      <td>2.85</td>\n",
              "      <td>4.15</td>\n",
              "      <td>5200</td>\n",
              "      <td>2</td>\n",
              "      <td>0</td>\n",
              "      <td>1</td>\n",
              "      <td>0</td>\n",
              "      <td>3</td>\n",
              "      <td>True</td>\n",
              "    </tr>\n",
              "    <tr>\n",
              "      <th>4</th>\n",
              "      <td>92</td>\n",
              "      <td>2014</td>\n",
              "      <td>4.60</td>\n",
              "      <td>6.87</td>\n",
              "      <td>42450</td>\n",
              "      <td>1</td>\n",
              "      <td>0</td>\n",
              "      <td>1</td>\n",
              "      <td>0</td>\n",
              "      <td>2</td>\n",
              "      <td>True</td>\n",
              "    </tr>\n",
              "  </tbody>\n",
              "</table>\n",
              "</div>"
            ],
            "text/plain": [
              "   Car_Name  Year  Selling_Price  ...  Owner  Time_Before_Sell  Quick_Sell\n",
              "0        90  2014           3.35  ...      0                 2        True\n",
              "1        93  2013           4.75  ...      0                 2        True\n",
              "2        68  2017           7.25  ...      0                 1        True\n",
              "3        96  2011           2.85  ...      0                 3        True\n",
              "4        92  2014           4.60  ...      0                 2        True\n",
              "\n",
              "[5 rows x 11 columns]"
            ]
          },
          "metadata": {
            "tags": []
          },
          "execution_count": 110
        }
      ]
    },
    {
      "cell_type": "markdown",
      "metadata": {
        "id": "2lxB1gKzjA9V",
        "colab_type": "text"
      },
      "source": [
        "### Classificateur Bayesien"
      ]
    },
    {
      "cell_type": "code",
      "metadata": {
        "id": "SPr2FPtlDeCh",
        "colab_type": "code",
        "colab": {}
      },
      "source": [
        "# Split du jeu de données en test et train\n",
        "data = dataset[['Year', 'Selling_Price', 'Present_Price', 'Kms_Driven', 'Fuel_Type',\t'Seller_Type',\t'Transmission', 'Owner']]\n",
        "target = dataset['Quick_Sell']\n",
        "x_train, x_test, y_train, y_test = train_test_split(data, target, test_size=.3, random_state=18)"
      ],
      "execution_count": 0,
      "outputs": []
    },
    {
      "cell_type": "code",
      "metadata": {
        "id": "25MWxSKgFM63",
        "colab_type": "code",
        "outputId": "4fab6a3f-cbb1-4f80-aaf9-2ca9908a55ec",
        "colab": {
          "base_uri": "https://localhost:8080/",
          "height": 34
        }
      },
      "source": [
        "# Entrainement du modèle Gaussian Naive Bayes\n",
        "gnb = GaussianNB()\n",
        "gnb.fit(x_train, y_train)"
      ],
      "execution_count": 112,
      "outputs": [
        {
          "output_type": "execute_result",
          "data": {
            "text/plain": [
              "GaussianNB(priors=None, var_smoothing=1e-09)"
            ]
          },
          "metadata": {
            "tags": []
          },
          "execution_count": 112
        }
      ]
    },
    {
      "cell_type": "markdown",
      "metadata": {
        "id": "0IWXosJaIxN1",
        "colab_type": "text"
      },
      "source": [
        "On remarque que l'on doit utiliser uniquement des variables de type numériques. De plus nous supprimons des données les variables : \n",
        "> Quick_Sell et Time_Before_Sell"
      ]
    },
    {
      "cell_type": "code",
      "metadata": {
        "id": "x7525MSDGrGk",
        "colab_type": "code",
        "outputId": "c791a790-8f15-4296-ae3d-0a667691021c",
        "colab": {
          "base_uri": "https://localhost:8080/",
          "height": 34
        }
      },
      "source": [
        "# calcul des prédiction par notre modèle\n",
        "y_pred = gnb.predict(x_test)\n",
        "\n",
        "scores = metrics.accuracy_score(y_test, y_pred)\n",
        "print('Accuracy :', '{:2.2%}'.format(scores))"
      ],
      "execution_count": 113,
      "outputs": [
        {
          "output_type": "stream",
          "text": [
            "Accuracy : 58.24%\n"
          ],
          "name": "stdout"
        }
      ]
    },
    {
      "cell_type": "markdown",
      "metadata": {
        "id": "20Um8gXdjLon",
        "colab_type": "text"
      },
      "source": [
        "### Arbre de Décision"
      ]
    },
    {
      "cell_type": "markdown",
      "metadata": {
        "id": "JpIl6YjEjUiA",
        "colab_type": "text"
      },
      "source": [
        "Contrairement au classifieur bayesien on peut conserver les valeurs non-numérique pour la construction de notre arbre de décision."
      ]
    },
    {
      "cell_type": "code",
      "metadata": {
        "id": "cPpoDzeWHmQh",
        "colab_type": "code",
        "colab": {}
      },
      "source": [
        "# Split du jeu de données en test et train\n",
        "data = dataset[['Year', 'Selling_Price', 'Present_Price', 'Kms_Driven', 'Owner', 'Fuel_Type',\t'Seller_Type',\t'Transmission']]\n",
        "target = dataset['Quick_Sell']\n",
        "x_train, x_test, y_train, y_test = train_test_split(data, target, test_size=.2, random_state=18)"
      ],
      "execution_count": 0,
      "outputs": []
    },
    {
      "cell_type": "code",
      "metadata": {
        "id": "xtZY2Ejck13t",
        "colab_type": "code",
        "colab": {
          "base_uri": "https://localhost:8080/",
          "height": 119
        },
        "outputId": "1c9ca66c-e7a2-432b-fed2-a2f89dde15ac"
      },
      "source": [
        "decision_tree = DecisionTreeClassifier(criterion='entropy')\n",
        "decision_tree.fit(x_train, y_train)"
      ],
      "execution_count": 118,
      "outputs": [
        {
          "output_type": "execute_result",
          "data": {
            "text/plain": [
              "DecisionTreeClassifier(class_weight=None, criterion='entropy', max_depth=None,\n",
              "                       max_features=None, max_leaf_nodes=None,\n",
              "                       min_impurity_decrease=0.0, min_impurity_split=None,\n",
              "                       min_samples_leaf=1, min_samples_split=2,\n",
              "                       min_weight_fraction_leaf=0.0, presort=False,\n",
              "                       random_state=None, splitter='best')"
            ]
          },
          "metadata": {
            "tags": []
          },
          "execution_count": 118
        }
      ]
    },
    {
      "cell_type": "code",
      "metadata": {
        "id": "7xEgdFkGH45Z",
        "colab_type": "code",
        "outputId": "a103d431-9839-4f0d-eae1-60b54360f445",
        "colab": {
          "base_uri": "https://localhost:8080/",
          "height": 34
        }
      },
      "source": [
        "# Calcul de la prédiction\n",
        "y_pred_decision_tree = decision_tree.predict(x_test)\n",
        "\n",
        "# comparaison des résultats obtenus (performance)\n",
        "scores_decision_tree = metrics.accuracy_score(y_test, y_pred_decision_tree)\n",
        "\n",
        "print('Accuracy Decision Tree:', '{:2.2%}'.format(scores_decision_tree))"
      ],
      "execution_count": 119,
      "outputs": [
        {
          "output_type": "stream",
          "text": [
            "Accuracy Decision Tree: 55.74%\n"
          ],
          "name": "stdout"
        }
      ]
    }
  ]
}