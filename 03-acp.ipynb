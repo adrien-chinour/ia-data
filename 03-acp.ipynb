{
  "nbformat": 4,
  "nbformat_minor": 0,
  "metadata": {
    "colab": {
      "name": "acp.ipynb",
      "provenance": [],
      "collapsed_sections": [
        "dSjSSxoPwjMU",
        "MwucDUORw7oH"
      ],
      "include_colab_link": true
    },
    "kernelspec": {
      "name": "python3",
      "display_name": "Python 3"
    }
  },
  "cells": [
    {
      "cell_type": "markdown",
      "metadata": {
        "id": "view-in-github",
        "colab_type": "text"
      },
      "source": [
        "<a href=\"https://colab.research.google.com/github/adrien-chinour/ia-data/blob/master/03-acp.ipynb\" target=\"_parent\"><img src=\"https://colab.research.google.com/assets/colab-badge.svg\" alt=\"Open In Colab\"/></a>"
      ]
    },
    {
      "cell_type": "markdown",
      "metadata": {
        "id": "h1LNT6DowEQa",
        "colab_type": "text"
      },
      "source": [
        "# Analyse en Composantes Principales : ACP"
      ]
    },
    {
      "cell_type": "markdown",
      "metadata": {
        "id": "dSjSSxoPwjMU",
        "colab_type": "text"
      },
      "source": [
        "## Exercice 1"
      ]
    },
    {
      "cell_type": "code",
      "metadata": {
        "id": "R362G5j-wajB",
        "colab_type": "code",
        "colab": {}
      },
      "source": [
        "import numpy as np\n",
        "import math\n",
        "import pandas as pa\n",
        "import matplotlib.pyplot as plt\n",
        "from sklearn import decomposition\n",
        "from sklearn import preprocessing"
      ],
      "execution_count": 0,
      "outputs": []
    },
    {
      "cell_type": "code",
      "metadata": {
        "id": "I3WiKrn5wcTJ",
        "colab_type": "code",
        "colab": {}
      },
      "source": [
        "data = pa.read_csv('https://www.labri.fr/perso/zemmari/datasets/consommation.csv', index_col=0, header=0)\n",
        "data.head()"
      ],
      "execution_count": 0,
      "outputs": []
    },
    {
      "cell_type": "code",
      "metadata": {
        "id": "1cHMg17KwnKr",
        "colab_type": "code",
        "colab": {}
      },
      "source": [
        "pca_cols = ['PAO','PAA','VIO','VIA','POT','LEC','RAI','PLP']\n",
        "data_pca = data[pca_cols]\n",
        "X = data_pca.values # Nos variables aléatoires\n",
        "n = X.shape[0] #nombre d'individus (classe socio-professionnel)\n",
        "p = X.shape[1] #Nombre de variables (consommation)\n",
        "print(n,p)"
      ],
      "execution_count": 0,
      "outputs": []
    },
    {
      "cell_type": "code",
      "metadata": {
        "id": "MSd0LFxxwosm",
        "colab_type": "code",
        "colab": {}
      },
      "source": [
        "# On récupère les coeficients de corrélation entre nos variables\n",
        "corr = np.corrcoef(X, rowvar=0)\n",
        "print(corr)"
      ],
      "execution_count": 0,
      "outputs": []
    },
    {
      "cell_type": "code",
      "metadata": {
        "id": "OkZWtXjJwqj6",
        "colab_type": "code",
        "colab": {}
      },
      "source": [
        "# On créer les variables aléatoires Z centrées réduites\n",
        "std_scaler = preprocessing.StandardScaler()\n",
        "Z = std_scaler.fit_transform(X)\n",
        "print(Z)"
      ],
      "execution_count": 0,
      "outputs": []
    },
    {
      "cell_type": "code",
      "metadata": {
        "id": "ntoDJ726wsHz",
        "colab_type": "code",
        "colab": {}
      },
      "source": [
        "# On peut vérifier que nos données sont bien centrées réduites\n",
        "print(np.mean(Z,axis=0))\n",
        "print(np.std(Z,axis=0))"
      ],
      "execution_count": 0,
      "outputs": []
    },
    {
      "cell_type": "code",
      "metadata": {
        "id": "EJXFT1-bwttn",
        "colab_type": "code",
        "colab": {}
      },
      "source": [
        "# On commence par un nombre de composante maximum : p\n",
        "pca = decomposition.PCA(n_components=p)\n",
        "coord_fact = pca.fit_transform(Z)"
      ],
      "execution_count": 0,
      "outputs": []
    },
    {
      "cell_type": "code",
      "metadata": {
        "id": "xRVEEw1CwvRz",
        "colab_type": "code",
        "colab": {}
      },
      "source": [
        "# On calcul les valeurs propres de nos variables => Var(Xi) = valeur_propre\n",
        "valeurs_propres = pca.explained_variance_\n",
        "print(valeurs_propres)"
      ],
      "execution_count": 0,
      "outputs": []
    },
    {
      "cell_type": "code",
      "metadata": {
        "id": "2LCwPgCowwsm",
        "colab_type": "code",
        "colab": {}
      },
      "source": [
        "plt.plot(np.arange(1,p+1),valeurs_propres) \n",
        "plt.title(\"Scree plot\")\n",
        "plt.ylabel(\"Eigen values\")\n",
        "plt.xlabel(\"Factor number\")\n",
        "plt.show()"
      ],
      "execution_count": 0,
      "outputs": []
    },
    {
      "cell_type": "markdown",
      "metadata": {
        "id": "vEwqAhEkwzCU",
        "colab_type": "text"
      },
      "source": [
        "Selon le critère du coude, on ne garde que deux axes, ceux correspondant aux deux premières valeurs propres. Ces deux axes captures un total de variation égal à:"
      ]
    },
    {
      "cell_type": "code",
      "metadata": {
        "id": "fl8dgEICw0xN",
        "colab_type": "code",
        "colab": {}
      },
      "source": [
        "var_expl = (valeurs_propres[0]+valeurs_propres[1])/np.sum(valeurs_propres)\n",
        "print(var_expl*100,'%')"
      ],
      "execution_count": 0,
      "outputs": []
    },
    {
      "cell_type": "code",
      "metadata": {
        "id": "ifBm0fkww2VQ",
        "colab_type": "code",
        "colab": {}
      },
      "source": [
        "#racine carrée des valeurs propres \n",
        "sqrt_eigval = np.sqrt(valeurs_propres)\n",
        "\n",
        "#corrélation des variables avec les axes \n",
        "corvar = np.zeros((p,p)) \n",
        "for k in range(p):     \n",
        "        corvar[:,k] = pca.components_[k,:] * sqrt_eigval[k]      \n",
        "\n",
        "#on affiche pour les deux premiers axes \n",
        "print(pa.DataFrame({'id':data.columns,'COR_1':corvar[:,0],'COR_2':corvar[:,1]})) "
      ],
      "execution_count": 0,
      "outputs": []
    },
    {
      "cell_type": "code",
      "metadata": {
        "id": "hvPalHTWw38K",
        "colab_type": "code",
        "colab": {}
      },
      "source": [
        "#contributions aux axes \n",
        "ctr = coord_fact**2 \n",
        "for j in range(p):     \n",
        "    ctr[:,j] = ctr[:,j]/(n*valeurs_propres[j])      \n",
        "print(pa.DataFrame({'id':data.index,'CTR_1':ctr[:,0],'CTR_2':ctr[:,1]}))"
      ],
      "execution_count": 0,
      "outputs": []
    },
    {
      "cell_type": "code",
      "metadata": {
        "id": "aKcEPptaw5PC",
        "colab_type": "code",
        "colab": {}
      },
      "source": [
        "# valeur de critere\n",
        "1/(math.sqrt(valeurs_propres[0]))"
      ],
      "execution_count": 0,
      "outputs": []
    },
    {
      "cell_type": "markdown",
      "metadata": {
        "id": "MwucDUORw7oH",
        "colab_type": "text"
      },
      "source": [
        "## Exercice 2"
      ]
    },
    {
      "cell_type": "code",
      "metadata": {
        "id": "v26K5dAxxH89",
        "colab_type": "code",
        "colab": {}
      },
      "source": [
        "data = pa.read_csv('http://adrien.chinour.emi.u-bordeaux.fr/datasets/consommations.csv', index_col=0, header=0)\n",
        "data"
      ],
      "execution_count": 0,
      "outputs": []
    },
    {
      "cell_type": "code",
      "metadata": {
        "id": "ixqK9zP3x5m3",
        "colab_type": "code",
        "colab": {}
      },
      "source": [
        "pca_cols = ['NET','INT','SUB','LMT','DCT','IMM','EXP','VRD']\n",
        "data_pca = data[pca_cols]\n",
        "X = data_pca.values # Nos variables aléatoires\n",
        "n = X.shape[0] #nombre d'individus (classe socio-professionnel)\n",
        "p = X.shape[1] #Nombre de variables (consommation)\n",
        "print(n,p)"
      ],
      "execution_count": 0,
      "outputs": []
    },
    {
      "cell_type": "code",
      "metadata": {
        "id": "57guq6kAx7iw",
        "colab_type": "code",
        "colab": {}
      },
      "source": [
        "# On récupère les coeficients de corrélation entre nos variables\n",
        "corr = np.corrcoef(X, rowvar=0)\n",
        "print(corr)"
      ],
      "execution_count": 0,
      "outputs": []
    },
    {
      "cell_type": "code",
      "metadata": {
        "id": "xXIsxHzOx9fg",
        "colab_type": "code",
        "colab": {}
      },
      "source": [
        "# On créer les variables aléatoires Z centrées réduites\n",
        "std_scaler = preprocessing.StandardScaler()\n",
        "Z = std_scaler.fit_transform(X)\n",
        "print(Z)"
      ],
      "execution_count": 0,
      "outputs": []
    },
    {
      "cell_type": "code",
      "metadata": {
        "id": "XKkghcMSx-1y",
        "colab_type": "code",
        "colab": {}
      },
      "source": [
        "# On commence par un nombre de composante maximum : p\n",
        "pca = decomposition.PCA(n_components=p)\n",
        "coord_fact = pca.fit_transform(Z)"
      ],
      "execution_count": 0,
      "outputs": []
    },
    {
      "cell_type": "code",
      "metadata": {
        "id": "r3YzjLWgyAHl",
        "colab_type": "code",
        "colab": {}
      },
      "source": [
        "# On calcul les valeurs propres de nos variables => Var(Xi) = valeur_propre\n",
        "valeurs_propres = pca.explained_variance_\n",
        "print(valeurs_propres)"
      ],
      "execution_count": 0,
      "outputs": []
    },
    {
      "cell_type": "code",
      "metadata": {
        "id": "awLH6UquyBqH",
        "colab_type": "code",
        "colab": {}
      },
      "source": [
        "plt.plot(np.arange(1,p+1),valeurs_propres) \n",
        "plt.title(\"Scree plot\")\n",
        "plt.ylabel(\"Eigen values\")\n",
        "plt.xlabel(\"Factor number\")\n",
        "plt.show()"
      ],
      "execution_count": 0,
      "outputs": []
    },
    {
      "cell_type": "markdown",
      "metadata": {
        "id": "R_1mxj3OyDTE",
        "colab_type": "text"
      },
      "source": [
        "On garde 3 axes selon le critère du coude."
      ]
    },
    {
      "cell_type": "code",
      "metadata": {
        "id": "VjJYFlCDyGMv",
        "colab_type": "code",
        "colab": {}
      },
      "source": [
        "var_expl = (valeurs_propres[0]+valeurs_propres[1]+valeurs_propres[2])/np.sum(valeurs_propres)\n",
        "print(var_expl*100,'%')"
      ],
      "execution_count": 0,
      "outputs": []
    },
    {
      "cell_type": "code",
      "metadata": {
        "id": "WdlKpHf5yHsQ",
        "colab_type": "code",
        "colab": {}
      },
      "source": [
        "#racine carrée des valeurs propres \n",
        "sqrt_eigval = np.sqrt(valeurs_propres)\n",
        "\n",
        "#corrélation des variables avec les axes \n",
        "corvar = np.zeros((p,p)) \n",
        "for k in range(p):     \n",
        "        corvar[:,k] = pca.components_[k,:] * sqrt_eigval[k]      \n",
        "\n",
        "#on affiche pour les trois premiers axes \n",
        "print(pa.DataFrame({'id':data.columns,'COR_1':corvar[:,0],'COR_2':corvar[:,1],'COR_3':corvar[:,1]})) "
      ],
      "execution_count": 0,
      "outputs": []
    },
    {
      "cell_type": "markdown",
      "metadata": {
        "id": "NVZTV4MByJd_",
        "colab_type": "text"
      },
      "source": [
        "On ne garde pour l'interprétation des axes que les variables ayant une contribution supérieur à la contribution moyenne 1/p, 0.125 dans ce cas."
      ]
    },
    {
      "cell_type": "code",
      "metadata": {
        "id": "xGmN10yNyLOM",
        "colab_type": "code",
        "colab": {}
      },
      "source": [
        "#contributions aux axes \n",
        "ctr = coord_fact**2 \n",
        "for j in range(p):     \n",
        "    ctr[:,j] = ctr[:,j]/(n*valeurs_propres[j])      \n",
        "print(pa.DataFrame({'id':data.index,'CTR_1':ctr[:,0],'CTR_2':ctr[:,1],'CTR_3':ctr[:,1]}))"
      ],
      "execution_count": 0,
      "outputs": []
    },
    {
      "cell_type": "code",
      "metadata": {
        "id": "nULCZq1fyMv6",
        "colab_type": "code",
        "colab": {}
      },
      "source": [
        "# valeur de critere\n",
        "1/(math.sqrt(valeurs_propres[0]))"
      ],
      "execution_count": 0,
      "outputs": []
    }
  ]
}
