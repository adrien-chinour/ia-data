{
  "nbformat": 4,
  "nbformat_minor": 0,
  "metadata": {
    "kernelspec": {
      "display_name": "Python 3",
      "language": "python",
      "name": "python3"
    },
    "language_info": {
      "codemirror_mode": {
        "name": "ipython",
        "version": 3
      },
      "file_extension": ".py",
      "mimetype": "text/x-python",
      "name": "python",
      "nbconvert_exporter": "python",
      "pygments_lexer": "ipython3",
      "version": "3.5.3"
    },
    "colab": {
      "name": "ia_data_td4.ipynb",
      "provenance": [],
      "collapsed_sections": [],
      "include_colab_link": true
    }
  },
  "cells": [
    {
      "cell_type": "markdown",
      "metadata": {
        "id": "view-in-github",
        "colab_type": "text"
      },
      "source": [
        "<a href=\"https://colab.research.google.com/github/adrien-chinour/ia-data/blob/master/anova.ipynb\" target=\"_parent\"><img src=\"https://colab.research.google.com/assets/colab-badge.svg\" alt=\"Open In Colab\"/></a>"
      ]
    },
    {
      "cell_type": "markdown",
      "metadata": {
        "id": "-voKbYn2Uap8",
        "colab_type": "text"
      },
      "source": [
        "# Analyse de la variance"
      ]
    },
    {
      "cell_type": "markdown",
      "metadata": {
        "id": "oIkkeBKmUaqB",
        "colab_type": "text"
      },
      "source": [
        "## Import librairies et données"
      ]
    },
    {
      "cell_type": "code",
      "metadata": {
        "scrolled": true,
        "id": "zfWuLuasUaqE",
        "colab_type": "code",
        "colab": {}
      },
      "source": [
        "import pandas as pd\n",
        "import numpy as np\n",
        "import seaborn as sns\n",
        "import matplotlib.pyplot as plt\n",
        "import statsmodels.formula.api as smf\n",
        "import statsmodels.api as sm\n"
      ],
      "execution_count": 0,
      "outputs": []
    },
    {
      "cell_type": "code",
      "metadata": {
        "id": "EKwLIDgmUaqM",
        "colab_type": "code",
        "colab": {}
      },
      "source": [
        "autos1 = pd.read_csv('https://www.labri.fr/~zemmari/datasets/autos_anova-1.csv', sep=\";\", decimal=',')\n",
        "autos2 = pd.read_csv('https://www.labri.fr/~zemmari/datasets/autos_anova-2.csv', sep=\";\", decimal=',')"
      ],
      "execution_count": 0,
      "outputs": []
    },
    {
      "cell_type": "markdown",
      "metadata": {
        "id": "RXwyr5IQVeZv",
        "colab_type": "text"
      },
      "source": [
        "## ANOVA à 1 facteur"
      ]
    },
    {
      "cell_type": "markdown",
      "metadata": {
        "id": "cfPxg-LgeyPe",
        "colab_type": "text"
      },
      "source": [
        "**Affichage du jeu de données :**"
      ]
    },
    {
      "cell_type": "code",
      "metadata": {
        "id": "E1HQkjflezqX",
        "colab_type": "code",
        "outputId": "c94f64d9-9b68-4367-e685-96579f6d531a",
        "colab": {
          "base_uri": "https://localhost:8080/",
          "height": 206
        }
      },
      "source": [
        "autos1.head()"
      ],
      "execution_count": 0,
      "outputs": [
        {
          "output_type": "execute_result",
          "data": {
            "text/html": [
              "<div>\n",
              "<style scoped>\n",
              "    .dataframe tbody tr th:only-of-type {\n",
              "        vertical-align: middle;\n",
              "    }\n",
              "\n",
              "    .dataframe tbody tr th {\n",
              "        vertical-align: top;\n",
              "    }\n",
              "\n",
              "    .dataframe thead th {\n",
              "        text-align: right;\n",
              "    }\n",
              "</style>\n",
              "<table border=\"1\" class=\"dataframe\">\n",
              "  <thead>\n",
              "    <tr style=\"text-align: right;\">\n",
              "      <th></th>\n",
              "      <th>length</th>\n",
              "      <th>body_style</th>\n",
              "    </tr>\n",
              "  </thead>\n",
              "  <tbody>\n",
              "    <tr>\n",
              "      <th>0</th>\n",
              "      <td>173.4</td>\n",
              "      <td>hatchback</td>\n",
              "    </tr>\n",
              "    <tr>\n",
              "      <th>1</th>\n",
              "      <td>158.7</td>\n",
              "      <td>hatchback</td>\n",
              "    </tr>\n",
              "    <tr>\n",
              "      <th>2</th>\n",
              "      <td>162.4</td>\n",
              "      <td>hardtop</td>\n",
              "    </tr>\n",
              "    <tr>\n",
              "      <th>3</th>\n",
              "      <td>188.8</td>\n",
              "      <td>sedan</td>\n",
              "    </tr>\n",
              "    <tr>\n",
              "      <th>4</th>\n",
              "      <td>190.9</td>\n",
              "      <td>sedan</td>\n",
              "    </tr>\n",
              "  </tbody>\n",
              "</table>\n",
              "</div>"
            ],
            "text/plain": [
              "   length body_style\n",
              "0   173.4  hatchback\n",
              "1   158.7  hatchback\n",
              "2   162.4    hardtop\n",
              "3   188.8      sedan\n",
              "4   190.9      sedan"
            ]
          },
          "metadata": {
            "tags": []
          },
          "execution_count": 19
        }
      ]
    },
    {
      "cell_type": "markdown",
      "metadata": {
        "id": "3mViTxLTe_-X",
        "colab_type": "text"
      },
      "source": [
        "On veut étudier ici l'influence du style de la voiture sur sa longueur.\n",
        "\n",
        "On peut visualiser l'influence du style en affichant les boîtes à moustaches :"
      ]
    },
    {
      "cell_type": "code",
      "metadata": {
        "id": "yNZnKkX7UaqU",
        "colab_type": "code",
        "outputId": "cc6a6e1d-c69f-4ec9-8d7f-3d0812e5743d",
        "colab": {
          "base_uri": "https://localhost:8080/",
          "height": 301
        }
      },
      "source": [
        "sns.set()\n",
        "\n",
        "ax = sns.boxplot(x=\"body_style\", y=\"length\", data=autos1, color='yellow')\n",
        "plt.xlabel('Style de vehicule')\n",
        "plt.ylabel('Longueur')\n",
        "plt.title('Boîtes à moustaches')\n",
        "plt.show()"
      ],
      "execution_count": 0,
      "outputs": [
        {
          "output_type": "display_data",
          "data": {
            "image/png": "[encoded data removed]",
            "text/plain": [
              "<Figure size 432x288 with 1 Axes>"
            ]
          },
          "metadata": {
            "tags": []
          }
        }
      ]
    },
    {
      "cell_type": "markdown",
      "metadata": {
        "id": "rwobxk23Vzzt",
        "colab_type": "text"
      },
      "source": [
        "Il ne semble pas y avoir d'ecart significatif entre les médianes. Cependant, le style du véhicule semble avoir une influence sur sa longueur.\n",
        "\n",
        "Le style Sedan dispose d'une large gamme de taille, la où le style Convertible dispose de longueur plus restreinte, malgres une valeur anormale base.\n",
        "\n",
        "### Réalisation du test de Fisher\n",
        "\n",
        "**On pose les hypothèses :**\n",
        "\n",
        "- **HO** : Le style du véhicule n'a pas d'influence sur sa longueur\n",
        "- **H1** : Le style du véhicule a une influence sur sa longueur\n",
        "\n",
        "\n"
      ]
    },
    {
      "cell_type": "markdown",
      "metadata": {
        "id": "2wkGrhTTX_NC",
        "colab_type": "text"
      },
      "source": [
        "Étudions maintenant l'influence du style du véhicule sur sa longueur :"
      ]
    },
    {
      "cell_type": "code",
      "metadata": {
        "id": "6IOLlOroYGPy",
        "colab_type": "code",
        "outputId": "17c38b54-f105-45fc-c2c3-7e7091c0a3c7",
        "colab": {
          "base_uri": "https://localhost:8080/",
          "height": 517
        }
      },
      "source": [
        "anova_style = smf.ols('length~body_style', data=autos1).fit()\n",
        "print(anova_style.summary())"
      ],
      "execution_count": 0,
      "outputs": [
        {
          "output_type": "stream",
          "text": [
            "                            OLS Regression Results                            \n",
            "==============================================================================\n",
            "Dep. Variable:                 length   R-squared:                       0.211\n",
            "Model:                            OLS   Adj. R-squared:                  0.195\n",
            "Method:                 Least Squares   F-statistic:                     13.38\n",
            "Date:                Fri, 18 Oct 2019   Prob (F-statistic):           1.11e-09\n",
            "Time:                        15:02:09   Log-Likelihood:                -781.16\n",
            "No. Observations:                 205   AIC:                             1572.\n",
            "Df Residuals:                     200   BIC:                             1589.\n",
            "Df Model:                           4                                         \n",
            "Covariance Type:            nonrobust                                         \n",
            "===========================================================================================\n",
            "                              coef    std err          t      P>|t|      [0.025      0.975]\n",
            "-------------------------------------------------------------------------------------------\n",
            "Intercept                 170.3833      4.518     37.712      0.000     161.474     179.292\n",
            "body_style[T.hardtop]       6.5542      5.977      1.097      0.274      -5.231      18.340\n",
            "body_style[T.hatchback]    -3.7905      4.708     -0.805      0.422     -13.074       5.493\n",
            "body_style[T.sedan]         7.2021      4.657      1.546      0.124      -1.981      16.385\n",
            "body_style[T.wagon]        10.9207      5.031      2.171      0.031       1.000      20.841\n",
            "==============================================================================\n",
            "Omnibus:                        3.246   Durbin-Watson:                   2.189\n",
            "Prob(Omnibus):                  0.197   Jarque-Bera (JB):                2.581\n",
            "Skew:                           0.148   Prob(JB):                        0.275\n",
            "Kurtosis:                       2.537   Cond. No.                         15.7\n",
            "==============================================================================\n",
            "\n",
            "Warnings:\n",
            "[1] Standard Errors assume that the covariance matrix of the errors is correctly specified.\n"
          ],
          "name": "stdout"
        }
      ]
    },
    {
      "cell_type": "markdown",
      "metadata": {
        "id": "0SI9D1-oZe6y",
        "colab_type": "text"
      },
      "source": [
        "Ici, la *p_valeur* est de `1.11e-09`, soit un résultat inferieur à **5%**. \n",
        "\n",
        "On **rejete donc l'hypothese H0** selon laquelle le style n'aurai pas d'influence sur la longueur."
      ]
    },
    {
      "cell_type": "markdown",
      "metadata": {
        "id": "CtQAuUi0a2Gb",
        "colab_type": "text"
      },
      "source": [
        "**Tableau d'analyse de la variance :**"
      ]
    },
    {
      "cell_type": "code",
      "metadata": {
        "id": "eO_yQbXPaqMQ",
        "colab_type": "code",
        "outputId": "3380aaf5-48ac-487b-9926-aa73230549c8",
        "colab": {
          "base_uri": "https://localhost:8080/",
          "height": 112
        }
      },
      "source": [
        "sm.stats.anova_lm(anova_style, typ=2)"
      ],
      "execution_count": 0,
      "outputs": [
        {
          "output_type": "execute_result",
          "data": {
            "text/html": [
              "<div>\n",
              "<style scoped>\n",
              "    .dataframe tbody tr th:only-of-type {\n",
              "        vertical-align: middle;\n",
              "    }\n",
              "\n",
              "    .dataframe tbody tr th {\n",
              "        vertical-align: top;\n",
              "    }\n",
              "\n",
              "    .dataframe thead th {\n",
              "        text-align: right;\n",
              "    }\n",
              "</style>\n",
              "<table border=\"1\" class=\"dataframe\">\n",
              "  <thead>\n",
              "    <tr style=\"text-align: right;\">\n",
              "      <th></th>\n",
              "      <th>sum_sq</th>\n",
              "      <th>df</th>\n",
              "      <th>F</th>\n",
              "      <th>PR(&gt;F)</th>\n",
              "    </tr>\n",
              "  </thead>\n",
              "  <tbody>\n",
              "    <tr>\n",
              "      <th>body_style</th>\n",
              "      <td>6555.429695</td>\n",
              "      <td>4.0</td>\n",
              "      <td>13.381081</td>\n",
              "      <td>1.110878e-09</td>\n",
              "    </tr>\n",
              "    <tr>\n",
              "      <th>Residual</th>\n",
              "      <td>24495.142695</td>\n",
              "      <td>200.0</td>\n",
              "      <td>NaN</td>\n",
              "      <td>NaN</td>\n",
              "    </tr>\n",
              "  </tbody>\n",
              "</table>\n",
              "</div>"
            ],
            "text/plain": [
              "                  sum_sq     df          F        PR(>F)\n",
              "body_style   6555.429695    4.0  13.381081  1.110878e-09\n",
              "Residual    24495.142695  200.0        NaN           NaN"
            ]
          },
          "metadata": {
            "tags": []
          },
          "execution_count": 14
        }
      ]
    },
    {
      "cell_type": "markdown",
      "metadata": {
        "id": "pkMeBtqRbks2",
        "colab_type": "text"
      },
      "source": [
        "## ANOVA à 2 facteurs\n",
        "\n",
        "On veut étudier ici la puissance des véhicules en fonction du type de carburant et le mode d’aspiration.\n"
      ]
    },
    {
      "cell_type": "markdown",
      "metadata": {
        "id": "vJiEwRBZemMH",
        "colab_type": "text"
      },
      "source": [
        "**Le jeu de données :**"
      ]
    },
    {
      "cell_type": "code",
      "metadata": {
        "id": "NjJlP-Tvbyt6",
        "colab_type": "code",
        "outputId": "c4b66a96-29d5-4687-acca-159d3871f214",
        "colab": {
          "base_uri": "https://localhost:8080/",
          "height": 206
        }
      },
      "source": [
        "autos2.head()"
      ],
      "execution_count": 0,
      "outputs": [
        {
          "output_type": "execute_result",
          "data": {
            "text/html": [
              "<div>\n",
              "<style scoped>\n",
              "    .dataframe tbody tr th:only-of-type {\n",
              "        vertical-align: middle;\n",
              "    }\n",
              "\n",
              "    .dataframe tbody tr th {\n",
              "        vertical-align: top;\n",
              "    }\n",
              "\n",
              "    .dataframe thead th {\n",
              "        text-align: right;\n",
              "    }\n",
              "</style>\n",
              "<table border=\"1\" class=\"dataframe\">\n",
              "  <thead>\n",
              "    <tr style=\"text-align: right;\">\n",
              "      <th></th>\n",
              "      <th>fuel_type</th>\n",
              "      <th>aspiration</th>\n",
              "      <th>horsepower</th>\n",
              "    </tr>\n",
              "  </thead>\n",
              "  <tbody>\n",
              "    <tr>\n",
              "      <th>0</th>\n",
              "      <td>gas</td>\n",
              "      <td>std</td>\n",
              "      <td>97.0</td>\n",
              "    </tr>\n",
              "    <tr>\n",
              "      <th>1</th>\n",
              "      <td>gas</td>\n",
              "      <td>std</td>\n",
              "      <td>62.0</td>\n",
              "    </tr>\n",
              "    <tr>\n",
              "      <th>2</th>\n",
              "      <td>gas</td>\n",
              "      <td>std</td>\n",
              "      <td>69.0</td>\n",
              "    </tr>\n",
              "    <tr>\n",
              "      <th>3</th>\n",
              "      <td>gas</td>\n",
              "      <td>turbo</td>\n",
              "      <td>162.0</td>\n",
              "    </tr>\n",
              "    <tr>\n",
              "      <th>4</th>\n",
              "      <td>diesel</td>\n",
              "      <td>turbo</td>\n",
              "      <td>123.0</td>\n",
              "    </tr>\n",
              "  </tbody>\n",
              "</table>\n",
              "</div>"
            ],
            "text/plain": [
              "  fuel_type aspiration  horsepower\n",
              "0       gas        std        97.0\n",
              "1       gas        std        62.0\n",
              "2       gas        std        69.0\n",
              "3       gas      turbo       162.0\n",
              "4    diesel      turbo       123.0"
            ]
          },
          "metadata": {
            "tags": []
          },
          "execution_count": 15
        }
      ]
    },
    {
      "cell_type": "code",
      "metadata": {
        "id": "20W3wz92cje6",
        "colab_type": "code",
        "outputId": "54490e44-f8d8-435a-d8a2-b7a2d6c822a1",
        "colab": {
          "base_uri": "https://localhost:8080/",
          "height": 657
        }
      },
      "source": [
        "anova_carbu_aspi = smf.ols('horsepower~aspiration*fuel_type', data=autos2).fit()\n",
        "print(anova_carbu_aspi.summary())\n",
        "sm.stats.anova_lm(anova_carbu_aspi)\n",
        "\n"
      ],
      "execution_count": 0,
      "outputs": [
        {
          "output_type": "stream",
          "text": [
            "                            OLS Regression Results                            \n",
            "==============================================================================\n",
            "Dep. Variable:             horsepower   R-squared:                       0.139\n",
            "Model:                            OLS   Adj. R-squared:                  0.127\n",
            "Method:                 Least Squares   F-statistic:                     10.86\n",
            "Date:                Fri, 18 Oct 2019   Prob (F-statistic):           1.22e-06\n",
            "Time:                        15:19:51   Log-Likelihood:                -1028.7\n",
            "No. Observations:                 205   AIC:                             2065.\n",
            "Df Residuals:                     201   BIC:                             2079.\n",
            "Df Model:                           3                                         \n",
            "Covariance Type:            nonrobust                                         \n",
            "========================================================================================================\n",
            "                                           coef    std err          t      P>|t|      [0.025      0.975]\n",
            "--------------------------------------------------------------------------------------------------------\n",
            "Intercept                               58.1429     13.960      4.165      0.000      30.617      85.669\n",
            "aspiration[T.turbo]                     40.4725     17.315      2.337      0.020       6.331      74.614\n",
            "fuel_type[T.gas]                        43.4799     14.260      3.049      0.003      15.362      71.598\n",
            "aspiration[T.turbo]:fuel_type[T.gas]    -3.6786     19.108     -0.193      0.848     -41.356      33.999\n",
            "==============================================================================\n",
            "Omnibus:                       85.416   Durbin-Watson:                   2.024\n",
            "Prob(Omnibus):                  0.000   Jarque-Bera (JB):              276.005\n",
            "Skew:                           1.752   Prob(JB):                     1.17e-60\n",
            "Kurtosis:                       7.476   Cond. No.                         16.3\n",
            "==============================================================================\n",
            "\n",
            "Warnings:\n",
            "[1] Standard Errors assume that the covariance matrix of the errors is correctly specified.\n"
          ],
          "name": "stdout"
        },
        {
          "output_type": "execute_result",
          "data": {
            "text/html": [
              "<div>\n",
              "<style scoped>\n",
              "    .dataframe tbody tr th:only-of-type {\n",
              "        vertical-align: middle;\n",
              "    }\n",
              "\n",
              "    .dataframe tbody tr th {\n",
              "        vertical-align: top;\n",
              "    }\n",
              "\n",
              "    .dataframe thead th {\n",
              "        text-align: right;\n",
              "    }\n",
              "</style>\n",
              "<table border=\"1\" class=\"dataframe\">\n",
              "  <thead>\n",
              "    <tr style=\"text-align: right;\">\n",
              "      <th></th>\n",
              "      <th>df</th>\n",
              "      <th>sum_sq</th>\n",
              "      <th>mean_sq</th>\n",
              "      <th>F</th>\n",
              "      <th>PR(&gt;F)</th>\n",
              "    </tr>\n",
              "  </thead>\n",
              "  <tbody>\n",
              "    <tr>\n",
              "      <th>aspiration</th>\n",
              "      <td>1.0</td>\n",
              "      <td>18381.548587</td>\n",
              "      <td>18381.548587</td>\n",
              "      <td>13.475474</td>\n",
              "      <td>0.000310</td>\n",
              "    </tr>\n",
              "    <tr>\n",
              "      <th>fuel_type</th>\n",
              "      <td>1.0</td>\n",
              "      <td>25989.701246</td>\n",
              "      <td>25989.701246</td>\n",
              "      <td>19.052995</td>\n",
              "      <td>0.000020</td>\n",
              "    </tr>\n",
              "    <tr>\n",
              "      <th>aspiration:fuel_type</th>\n",
              "      <td>1.0</td>\n",
              "      <td>50.556552</td>\n",
              "      <td>50.556552</td>\n",
              "      <td>0.037063</td>\n",
              "      <td>0.847531</td>\n",
              "    </tr>\n",
              "    <tr>\n",
              "      <th>Residual</th>\n",
              "      <td>201.0</td>\n",
              "      <td>274178.938715</td>\n",
              "      <td>1364.074322</td>\n",
              "      <td>NaN</td>\n",
              "      <td>NaN</td>\n",
              "    </tr>\n",
              "  </tbody>\n",
              "</table>\n",
              "</div>"
            ],
            "text/plain": [
              "                         df         sum_sq       mean_sq          F    PR(>F)\n",
              "aspiration              1.0   18381.548587  18381.548587  13.475474  0.000310\n",
              "fuel_type               1.0   25989.701246  25989.701246  19.052995  0.000020\n",
              "aspiration:fuel_type    1.0      50.556552     50.556552   0.037063  0.847531\n",
              "Residual              201.0  274178.938715   1364.074322        NaN       NaN"
            ]
          },
          "metadata": {
            "tags": []
          },
          "execution_count": 17
        }
      ]
    },
    {
      "cell_type": "markdown",
      "metadata": {
        "id": "xRIQYXu8dHSR",
        "colab_type": "text"
      },
      "source": [
        "On voit sur le tableau 3 lignes :\n",
        "\n",
        "    - aspiration : qui teste l'effet de l'aspiration ;\n",
        "    - fuel_type : qui teste l'effet du type de carburant ;\n",
        "    - aspiration:fuel_type : qui teste les interactions aspiration-carburant.\n",
        "\n",
        "La p-valeur des interactions (84.75 %) est très largement supérieure à 5 % ; on en déduit donc que les interactions n'ont pas d'impact sur le rendement.\n",
        "\n",
        "**Le type de carburant et le type d'aspiration n'ont pas d'influence sur les chevaux.**"
      ]
    }
  ]
}