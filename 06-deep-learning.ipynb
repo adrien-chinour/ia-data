{
  "nbformat": 4,
  "nbformat_minor": 0,
  "metadata": {
    "colab": {
      "name": "deep-learning.ipynb",
      "provenance": [],
      "collapsed_sections": [],
      "include_colab_link": true
    },
    "kernelspec": {
      "name": "python3",
      "display_name": "Python 3"
    }
  },
  "cells": [
    {
      "cell_type": "markdown",
      "metadata": {
        "id": "view-in-github",
        "colab_type": "text"
      },
      "source": [
        "<a href=\"https://colab.research.google.com/github/adrien-chinour/ia-data/blob/master/06-deep-learning.ipynb\" target=\"_parent\"><img src=\"https://colab.research.google.com/assets/colab-badge.svg\" alt=\"Open In Colab\"/></a>"
      ]
    },
    {
      "cell_type": "markdown",
      "metadata": {
        "id": "rWC83D2vmNwr",
        "colab_type": "text"
      },
      "source": [
        "# Réseaux de neurones"
      ]
    },
    {
      "cell_type": "code",
      "metadata": {
        "id": "ldYwSzNqvIVN",
        "colab_type": "code",
        "colab": {}
      },
      "source": [
        "import numpy as np\n",
        "import keras\n",
        "from keras.datasets import mnist\n",
        "import matplotlib\n",
        "import matplotlib.pyplot as plt"
      ],
      "execution_count": 0,
      "outputs": []
    },
    {
      "cell_type": "markdown",
      "metadata": {
        "id": "aUUQ-ftqw1ZZ",
        "colab_type": "text"
      },
      "source": [
        "## Exercice 1 : Un réseau à un seul neurone\n",
        "\n",
        "1. Donner les expressions mathématiques de la sortie y du neurone en fonction dex,W,betσ.\n",
        "2. Donner l’expression mathématique de le fonction de perte L. Utiliser pour cela la cross entropy.\n",
        "3. Compléter le fichier pour implémenter tous les éléments nécessaires à l’entrainement de votr emodèle.\n",
        "4. Entrainer le modéle."
      ]
    },
    {
      "cell_type": "code",
      "metadata": {
        "id": "m9UL8pHdvj5s",
        "colab_type": "code",
        "outputId": "64eb00c0-b6b5-4928-f614-c877530e55c7",
        "colab": {
          "base_uri": "https://localhost:8080/",
          "height": 265
        }
      },
      "source": [
        "# Récupération des données\n",
        "(X_train, y_train), (X_test, y_test) = mnist.load_data()\n",
        "plt.imshow(X_train[1])\n",
        "plt.show()"
      ],
      "execution_count": 0,
      "outputs": [
        {
          "output_type": "display_data",
          "data": {
            "image/png": "[encoded data removed]",
            "text/plain": [
              "<Figure size 432x288 with 1 Axes>"
            ]
          },
          "metadata": {
            "tags": []
          }
        }
      ]
    },
    {
      "cell_type": "code",
      "metadata": {
        "id": "hYNN6XxJxNZN",
        "colab_type": "code",
        "colab": {}
      },
      "source": [
        "num_pixels = X_train.shape[1] * X_train.shape[2]\n",
        "\n",
        "X_train = X_train.reshape(X_train.shape[0], num_pixels)\n",
        "X_test = X_test.reshape(X_test.shape[0], num_pixels)\n",
        "y_train = y_train.reshape(y_train.shape[0], 1)\n",
        "y_test = y_test.reshape(y_test.shape[0], 1)\n",
        "\n",
        "# converti les pixels en réels\n",
        "X_train = X_train.astype('float32')\n",
        "X_test = X_test.astype('float32')\n",
        "y_train = y_train.astype('float32')\n",
        "y_test = y_test.astype('float32')\n",
        "\n",
        "# normalise la valeur entre 0 et 1\n",
        "X_train  = X_train / 255\n",
        "X_test  = X_test / 255"
      ],
      "execution_count": 0,
      "outputs": []
    },
    {
      "cell_type": "code",
      "metadata": {
        "id": "EkncWwOd0hiQ",
        "colab_type": "code",
        "colab": {}
      },
      "source": [
        "y_new = np.zeros(y_train.shape)\n",
        "y_new[np.where(y_train==5.0)[0]] = 1\n",
        "y_train = y_new\n",
        "\n",
        "y_new = np.zeros(y_test.shape)\n",
        "y_new[np.where(y_test==5.0)[0]] = 1\n",
        "y_test = y_new"
      ],
      "execution_count": 0,
      "outputs": []
    },
    {
      "cell_type": "code",
      "metadata": {
        "id": "r1vbMMLV2Sw_",
        "colab_type": "code",
        "colab": {}
      },
      "source": [
        "y_train = keras.utils.to_categorical(y_train)\n",
        "y_test = keras.utils.to_categorical(y_test)"
      ],
      "execution_count": 0,
      "outputs": []
    },
    {
      "cell_type": "code",
      "metadata": {
        "id": "EB-7gKmS3DMw",
        "colab_type": "code",
        "outputId": "3bc73fab-8f08-4824-a3bc-d5a3bb2525b2",
        "colab": {
          "base_uri": "https://localhost:8080/",
          "height": 803
        }
      },
      "source": [
        "from keras.models import Sequential\n",
        "from keras.layers import Dense\n",
        "\n",
        "def neural_network():\n",
        "  network = Sequential()\n",
        "  network.add(Dense(num_pixels, input_dim=num_pixels, kernel_initializer='normal', activation='sigmoid'))\n",
        "  network.add(Dense(2, kernel_initializer='normal', activation='softmax'))\n",
        "  network.compile(loss='categorical_crossentropy', optimizer='adam', metrics=['accuracy'])\n",
        "  return network\n",
        "\n",
        "my_network = neural_network()\n",
        "my_network.summary()\n",
        "my_network.fit(X_train, y_train, validation_data=(X_test, y_test), epochs=10, batch_size=100)"
      ],
      "execution_count": 0,
      "outputs": [
        {
          "output_type": "stream",
          "text": [
            "Model: \"sequential_11\"\n",
            "_________________________________________________________________\n",
            "Layer (type)                 Output Shape              Param #   \n",
            "=================================================================\n",
            "dense_21 (Dense)             (None, 784)               615440    \n",
            "_________________________________________________________________\n",
            "dense_22 (Dense)             (None, 2)                 1570      \n",
            "=================================================================\n",
            "Total params: 617,010\n",
            "Trainable params: 617,010\n",
            "Non-trainable params: 0\n",
            "_________________________________________________________________\n",
            "Train on 60000 samples, validate on 10000 samples\n",
            "Epoch 1/10\n",
            "WARNING:tensorflow:From /usr/local/lib/python3.6/dist-packages/keras/backend/tensorflow_backend.py:190: The name tf.get_default_session is deprecated. Please use tf.compat.v1.get_default_session instead.\n",
            "\n",
            "WARNING:tensorflow:From /usr/local/lib/python3.6/dist-packages/keras/backend/tensorflow_backend.py:197: The name tf.ConfigProto is deprecated. Please use tf.compat.v1.ConfigProto instead.\n",
            "\n",
            "WARNING:tensorflow:From /usr/local/lib/python3.6/dist-packages/keras/backend/tensorflow_backend.py:207: The name tf.global_variables is deprecated. Please use tf.compat.v1.global_variables instead.\n",
            "\n",
            "WARNING:tensorflow:From /usr/local/lib/python3.6/dist-packages/keras/backend/tensorflow_backend.py:216: The name tf.is_variable_initialized is deprecated. Please use tf.compat.v1.is_variable_initialized instead.\n",
            "\n",
            "WARNING:tensorflow:From /usr/local/lib/python3.6/dist-packages/keras/backend/tensorflow_backend.py:223: The name tf.variables_initializer is deprecated. Please use tf.compat.v1.variables_initializer instead.\n",
            "\n",
            "60000/60000 [==============================] - 10s 162us/step - loss: 0.1041 - acc: 0.9668 - val_loss: 0.0783 - val_acc: 0.9766\n",
            "Epoch 2/10\n",
            "60000/60000 [==============================] - 8s 140us/step - loss: 0.0536 - acc: 0.9832 - val_loss: 0.0416 - val_acc: 0.9863\n",
            "Epoch 3/10\n",
            "60000/60000 [==============================] - 9s 143us/step - loss: 0.0330 - acc: 0.9892 - val_loss: 0.0292 - val_acc: 0.9901\n",
            "Epoch 4/10\n",
            "60000/60000 [==============================] - 9s 142us/step - loss: 0.0238 - acc: 0.9922 - val_loss: 0.0236 - val_acc: 0.9924\n",
            "Epoch 5/10\n",
            "60000/60000 [==============================] - 9s 142us/step - loss: 0.0190 - acc: 0.9938 - val_loss: 0.0214 - val_acc: 0.9929\n",
            "Epoch 6/10\n",
            "60000/60000 [==============================] - 8s 141us/step - loss: 0.0157 - acc: 0.9946 - val_loss: 0.0216 - val_acc: 0.9925\n",
            "Epoch 7/10\n",
            "60000/60000 [==============================] - 8s 139us/step - loss: 0.0126 - acc: 0.9958 - val_loss: 0.0187 - val_acc: 0.9942\n",
            "Epoch 8/10\n",
            "60000/60000 [==============================] - 8s 141us/step - loss: 0.0105 - acc: 0.9961 - val_loss: 0.0155 - val_acc: 0.9954\n",
            "Epoch 9/10\n",
            "60000/60000 [==============================] - 8s 141us/step - loss: 0.0082 - acc: 0.9973 - val_loss: 0.0151 - val_acc: 0.9952\n",
            "Epoch 10/10\n",
            "60000/60000 [==============================] - 8s 141us/step - loss: 0.0063 - acc: 0.9980 - val_loss: 0.0142 - val_acc: 0.9955\n"
          ],
          "name": "stdout"
        },
        {
          "output_type": "execute_result",
          "data": {
            "text/plain": [
              "<keras.callbacks.History at 0x7fcc4662cbe0>"
            ]
          },
          "metadata": {
            "tags": []
          },
          "execution_count": 59
        }
      ]
    },
    {
      "cell_type": "code",
      "metadata": {
        "id": "-FKUQcZnExJN",
        "colab_type": "code",
        "outputId": "fab502a0-bae5-47f7-d1ef-2d1de2385093",
        "colab": {
          "base_uri": "https://localhost:8080/",
          "height": 53
        }
      },
      "source": [
        "scores = my_network.evaluate(X_test,y_test)\n",
        "print(scores)"
      ],
      "execution_count": 0,
      "outputs": [
        {
          "output_type": "stream",
          "text": [
            "10000/10000 [==============================] - 1s 63us/step\n",
            "[0.014163989494106499, 0.9955]\n"
          ],
          "name": "stdout"
        }
      ]
    }
  ]
}