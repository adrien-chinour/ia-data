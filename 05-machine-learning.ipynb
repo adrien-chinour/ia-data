{
  "nbformat": 4,
  "nbformat_minor": 0,
  "metadata": {
    "colab": {
      "name": "ia_data_td5.ipynb",
      "provenance": [],
      "collapsed_sections": [
        "x5MDMYarziKq",
        "DjpTyb_L0TvS",
        "LH8_pG187pbO",
        "e0Zu8VS18B-M"
      ],
      "include_colab_link": true
    },
    "kernelspec": {
      "name": "python3",
      "display_name": "Python 3"
    }
  },
  "cells": [
    {
      "cell_type": "markdown",
      "metadata": {
        "id": "view-in-github",
        "colab_type": "text"
      },
      "source": [
        "<a href=\"https://colab.research.google.com/github/adrien-chinour/ia-data/blob/master/05-machine-learning.ipynb\" target=\"_parent\"><img src=\"https://colab.research.google.com/assets/colab-badge.svg\" alt=\"Open In Colab\"/></a>"
      ]
    },
    {
      "cell_type": "markdown",
      "metadata": {
        "id": "ztQJXZTYnu4R",
        "colab_type": "text"
      },
      "source": [
        "## Procédure en machine learning\n",
        "\n",
        "1. Changer les données/ explorer / visulaliser / préparer\n",
        "2. Découper les données `(test, train)`\n",
        "3. Entraîner le modèle\n",
        "4. Évaluer le modèle\n",
        "5. Chercher les meilleurs `hyperparamètres`"
      ]
    },
    {
      "cell_type": "markdown",
      "metadata": {
        "id": "GrzH325Tz6Ir",
        "colab_type": "text"
      },
      "source": [
        "# Exemple 1"
      ]
    },
    {
      "cell_type": "markdown",
      "metadata": {
        "id": "rWNcH-ggqwii",
        "colab_type": "text"
      },
      "source": [
        "## Étape 1 : Chargement des données"
      ]
    },
    {
      "cell_type": "code",
      "metadata": {
        "id": "YWIES-qBocki",
        "colab_type": "code",
        "colab": {}
      },
      "source": [
        "# chargement du dataset depuis sklearn\n",
        "from sklearn import datasets\n",
        "wine = datasets.load_wine()"
      ],
      "execution_count": 0,
      "outputs": []
    },
    {
      "cell_type": "code",
      "metadata": {
        "id": "znIbbqrkrIS8",
        "colab_type": "code",
        "outputId": "5a31eab7-7a30-4502-818a-84773fcd9ce3",
        "colab": {
          "base_uri": "https://localhost:8080/",
          "height": 267
        }
      },
      "source": [
        "print(wine.feature_names) # label X\n",
        "print(wine.target_names) # label Y\n",
        "print(wine.data) # X\n",
        "print(wine.target) # Y"
      ],
      "execution_count": 0,
      "outputs": [
        {
          "output_type": "stream",
          "text": [
            "['alcohol', 'malic_acid', 'ash', 'alcalinity_of_ash', 'magnesium', 'total_phenols', 'flavanoids', 'nonflavanoid_phenols', 'proanthocyanins', 'color_intensity', 'hue', 'od280/od315_of_diluted_wines', 'proline']\n",
            "['class_0' 'class_1' 'class_2']\n",
            "[[1.423e+01 1.710e+00 2.430e+00 ... 1.040e+00 3.920e+00 1.065e+03]\n",
            " [1.320e+01 1.780e+00 2.140e+00 ... 1.050e+00 3.400e+00 1.050e+03]\n",
            " [1.316e+01 2.360e+00 2.670e+00 ... 1.030e+00 3.170e+00 1.185e+03]\n",
            " ...\n",
            " [1.327e+01 4.280e+00 2.260e+00 ... 5.900e-01 1.560e+00 8.350e+02]\n",
            " [1.317e+01 2.590e+00 2.370e+00 ... 6.000e-01 1.620e+00 8.400e+02]\n",
            " [1.413e+01 4.100e+00 2.740e+00 ... 6.100e-01 1.600e+00 5.600e+02]]\n",
            "[0 0 0 0 0 0 0 0 0 0 0 0 0 0 0 0 0 0 0 0 0 0 0 0 0 0 0 0 0 0 0 0 0 0 0 0 0\n",
            " 0 0 0 0 0 0 0 0 0 0 0 0 0 0 0 0 0 0 0 0 0 0 1 1 1 1 1 1 1 1 1 1 1 1 1 1 1\n",
            " 1 1 1 1 1 1 1 1 1 1 1 1 1 1 1 1 1 1 1 1 1 1 1 1 1 1 1 1 1 1 1 1 1 1 1 1 1\n",
            " 1 1 1 1 1 1 1 1 1 1 1 1 1 1 1 1 1 1 1 2 2 2 2 2 2 2 2 2 2 2 2 2 2 2 2 2 2\n",
            " 2 2 2 2 2 2 2 2 2 2 2 2 2 2 2 2 2 2 2 2 2 2 2 2 2 2 2 2 2 2]\n"
          ],
          "name": "stdout"
        }
      ]
    },
    {
      "cell_type": "markdown",
      "metadata": {
        "id": "MyG3L4QUrDLo",
        "colab_type": "text"
      },
      "source": [
        "## Étape 2 : découpage des données"
      ]
    },
    {
      "cell_type": "code",
      "metadata": {
        "id": "zBlra-IPpUpo",
        "colab_type": "code",
        "colab": {}
      },
      "source": [
        "from sklearn.model_selection import train_test_split\n",
        "x_train, x_test, y_train, y_test = train_test_split(wine.data, wine.target, test_size=.3, random_state=109)"
      ],
      "execution_count": 0,
      "outputs": []
    },
    {
      "cell_type": "markdown",
      "metadata": {
        "id": "dd0RiOHEs1jS",
        "colab_type": "text"
      },
      "source": [
        "## Étape 3 : Entrainement du modèle"
      ]
    },
    {
      "cell_type": "code",
      "metadata": {
        "id": "6Xk9s9ums7QH",
        "colab_type": "code",
        "outputId": "1486d665-b654-4d94-9f8e-dfb1ba706e89",
        "colab": {
          "base_uri": "https://localhost:8080/",
          "height": 35
        }
      },
      "source": [
        "# Entrainement du modèle Gaussian Naive Bayes\n",
        "from sklearn.naive_bayes import GaussianNB\n",
        "gnb = GaussianNB()\n",
        "gnb.fit(x_train, y_train)"
      ],
      "execution_count": 0,
      "outputs": [
        {
          "output_type": "execute_result",
          "data": {
            "text/plain": [
              "GaussianNB(priors=None, var_smoothing=1e-09)"
            ]
          },
          "metadata": {
            "tags": []
          },
          "execution_count": 20
        }
      ]
    },
    {
      "cell_type": "markdown",
      "metadata": {
        "id": "UTlhrBVYvTei",
        "colab_type": "text"
      },
      "source": [
        "## Étape 4 : Évaluation du modèle"
      ]
    },
    {
      "cell_type": "code",
      "metadata": {
        "id": "LIbkfTx3veIw",
        "colab_type": "code",
        "outputId": "25608833-6c21-4958-a397-9988233880e0",
        "colab": {
          "base_uri": "https://localhost:8080/",
          "height": 88
        }
      },
      "source": [
        "# calcul des prédiction par notre modèle\n",
        "y_pred = gnb.predict(x_test)\n",
        "print(y_pred)\n",
        "print(y_test)"
      ],
      "execution_count": 0,
      "outputs": [
        {
          "output_type": "stream",
          "text": [
            "[0 0 1 2 0 1 0 0 1 0 2 2 2 2 0 1 1 0 0 1 2 1 0 2 0 0 1 2 0 1 2 1 1 0 1 1 0\n",
            " 2 2 0 2 1 0 0 0 2 2 0 1 1 2 0 0 2]\n",
            "[0 0 1 2 0 1 0 1 1 0 1 1 2 2 0 1 1 0 0 1 2 1 0 2 0 0 1 2 0 1 2 1 1 0 1 1 0\n",
            " 2 2 0 2 0 0 0 0 2 2 0 1 1 2 1 0 2]\n"
          ],
          "name": "stdout"
        }
      ]
    },
    {
      "cell_type": "code",
      "metadata": {
        "id": "JtjvYHRQwHGU",
        "colab_type": "code",
        "outputId": "bc7b6a50-2e81-4467-9647-6569c9cb443a",
        "colab": {
          "base_uri": "https://localhost:8080/",
          "height": 35
        }
      },
      "source": [
        "# comparaison des résultats obtenus (performance)\n",
        "from sklearn import metrics\n",
        "scores = metrics.accuracy_score(y_test, y_pred)\n",
        "print('Accuracy :', '{:2.2%}'.format(scores))"
      ],
      "execution_count": 0,
      "outputs": [
        {
          "output_type": "stream",
          "text": [
            "Accuracy : 90.74%\n"
          ],
          "name": "stdout"
        }
      ]
    },
    {
      "cell_type": "code",
      "metadata": {
        "id": "rB-1lNTLxAVv",
        "colab_type": "code",
        "outputId": "2cb384e6-5efb-422c-8036-3dde2469092d",
        "colab": {
          "base_uri": "https://localhost:8080/",
          "height": 71
        }
      },
      "source": [
        "# matrices des prédictions (par classe)\n",
        "cm = metrics.confusion_matrix(y_test, y_pred)\n",
        "print(cm)"
      ],
      "execution_count": 0,
      "outputs": [
        {
          "output_type": "stream",
          "text": [
            "[[20  1  0]\n",
            " [ 2 15  2]\n",
            " [ 0  0 14]]\n"
          ],
          "name": "stdout"
        }
      ]
    },
    {
      "cell_type": "code",
      "metadata": {
        "id": "YpqdOaJVx0yL",
        "colab_type": "code",
        "outputId": "f9861881-8154-462f-ca83-0f586ca97ea4",
        "colab": {
          "base_uri": "https://localhost:8080/",
          "height": 35
        }
      },
      "source": [
        "# On retrouve à partir de la matrice l'indice de performance (juste/total)\n",
        "print('{:2.2%}'.format((20+15+14)/(20+1+2+15+2+14)))"
      ],
      "execution_count": 0,
      "outputs": [
        {
          "output_type": "stream",
          "text": [
            "90.74%\n"
          ],
          "name": "stdout"
        }
      ]
    },
    {
      "cell_type": "markdown",
      "metadata": {
        "id": "x5MDMYarziKq",
        "colab_type": "text"
      },
      "source": [
        "# Exemple 2"
      ]
    },
    {
      "cell_type": "markdown",
      "metadata": {
        "id": "DjpTyb_L0TvS",
        "colab_type": "text"
      },
      "source": [
        "## Étape 1 : Chargement des données"
      ]
    },
    {
      "cell_type": "code",
      "metadata": {
        "id": "cKLL6wTGzmMd",
        "colab_type": "code",
        "outputId": "8d5165c1-4368-4d06-cefb-09281b6a3c30",
        "colab": {
          "base_uri": "https://localhost:8080/",
          "height": 206
        }
      },
      "source": [
        "import pandas\n",
        "bank_data = pandas.read_csv('https://www.labri.fr/~zemmari/datasets/bill_authentication.csv')\n",
        "bank_data.head()"
      ],
      "execution_count": 0,
      "outputs": [
        {
          "output_type": "execute_result",
          "data": {
            "text/html": [
              "<div>\n",
              "<style scoped>\n",
              "    .dataframe tbody tr th:only-of-type {\n",
              "        vertical-align: middle;\n",
              "    }\n",
              "\n",
              "    .dataframe tbody tr th {\n",
              "        vertical-align: top;\n",
              "    }\n",
              "\n",
              "    .dataframe thead th {\n",
              "        text-align: right;\n",
              "    }\n",
              "</style>\n",
              "<table border=\"1\" class=\"dataframe\">\n",
              "  <thead>\n",
              "    <tr style=\"text-align: right;\">\n",
              "      <th></th>\n",
              "      <th>Variance</th>\n",
              "      <th>Skewness</th>\n",
              "      <th>Curtosis</th>\n",
              "      <th>Entropy</th>\n",
              "      <th>Class</th>\n",
              "    </tr>\n",
              "  </thead>\n",
              "  <tbody>\n",
              "    <tr>\n",
              "      <th>0</th>\n",
              "      <td>3.62160</td>\n",
              "      <td>8.6661</td>\n",
              "      <td>-2.8073</td>\n",
              "      <td>-0.44699</td>\n",
              "      <td>0</td>\n",
              "    </tr>\n",
              "    <tr>\n",
              "      <th>1</th>\n",
              "      <td>4.54590</td>\n",
              "      <td>8.1674</td>\n",
              "      <td>-2.4586</td>\n",
              "      <td>-1.46210</td>\n",
              "      <td>0</td>\n",
              "    </tr>\n",
              "    <tr>\n",
              "      <th>2</th>\n",
              "      <td>3.86600</td>\n",
              "      <td>-2.6383</td>\n",
              "      <td>1.9242</td>\n",
              "      <td>0.10645</td>\n",
              "      <td>0</td>\n",
              "    </tr>\n",
              "    <tr>\n",
              "      <th>3</th>\n",
              "      <td>3.45660</td>\n",
              "      <td>9.5228</td>\n",
              "      <td>-4.0112</td>\n",
              "      <td>-3.59440</td>\n",
              "      <td>0</td>\n",
              "    </tr>\n",
              "    <tr>\n",
              "      <th>4</th>\n",
              "      <td>0.32924</td>\n",
              "      <td>-4.4552</td>\n",
              "      <td>4.5718</td>\n",
              "      <td>-0.98880</td>\n",
              "      <td>0</td>\n",
              "    </tr>\n",
              "  </tbody>\n",
              "</table>\n",
              "</div>"
            ],
            "text/plain": [
              "   Variance  Skewness  Curtosis  Entropy  Class\n",
              "0   3.62160    8.6661   -2.8073 -0.44699      0\n",
              "1   4.54590    8.1674   -2.4586 -1.46210      0\n",
              "2   3.86600   -2.6383    1.9242  0.10645      0\n",
              "3   3.45660    9.5228   -4.0112 -3.59440      0\n",
              "4   0.32924   -4.4552    4.5718 -0.98880      0"
            ]
          },
          "metadata": {
            "tags": []
          },
          "execution_count": 33
        }
      ]
    },
    {
      "cell_type": "markdown",
      "metadata": {
        "id": "a8wbG8Nk0eQa",
        "colab_type": "text"
      },
      "source": [
        "Plus d'info sur le dataset [ici](https://archives.ics.uci.edu/ml/datasets/banknote+authentication)"
      ]
    },
    {
      "cell_type": "markdown",
      "metadata": {
        "id": "AuWSiqXP1YuS",
        "colab_type": "text"
      },
      "source": [
        "## Étape 2 : Découpage des données"
      ]
    },
    {
      "cell_type": "code",
      "metadata": {
        "id": "r7oDqZ2x076u",
        "colab_type": "code",
        "colab": {}
      },
      "source": [
        "X = bank_data.drop('Class', axis=1)\n",
        "Y = bank_data['Class']\n",
        "x_train, x_test, y_train, y_test = train_test_split(X, Y, test_size=.3, random_state=100)"
      ],
      "execution_count": 0,
      "outputs": []
    },
    {
      "cell_type": "markdown",
      "metadata": {
        "id": "rYwzWRY91iXK",
        "colab_type": "text"
      },
      "source": [
        "## Étape 3 : Entrainement du modèle"
      ]
    },
    {
      "cell_type": "code",
      "metadata": {
        "id": "t_qXx6tN17KE",
        "colab_type": "code",
        "outputId": "56bd44a2-3a11-49bd-a75c-0691f4942a22",
        "colab": {
          "base_uri": "https://localhost:8080/",
          "height": 88
        }
      },
      "source": [
        "# Entrainement du modèle avec https://scikit-learn.org/stable/modules/generated/sklearn.svm.SVC.html\n",
        "from sklearn.svm import SVC \n",
        "classif = SVC(kernel='linear')\n",
        "classif.fit(x_train, y_train)"
      ],
      "execution_count": 0,
      "outputs": [
        {
          "output_type": "execute_result",
          "data": {
            "text/plain": [
              "SVC(C=1.0, cache_size=200, class_weight=None, coef0=0.0,\n",
              "    decision_function_shape='ovr', degree=3, gamma='auto_deprecated',\n",
              "    kernel='linear', max_iter=-1, probability=False, random_state=None,\n",
              "    shrinking=True, tol=0.001, verbose=False)"
            ]
          },
          "metadata": {
            "tags": []
          },
          "execution_count": 40
        }
      ]
    },
    {
      "cell_type": "markdown",
      "metadata": {
        "id": "ZXl__L8n28Vp",
        "colab_type": "text"
      },
      "source": [
        "## Étape 4 : Évaluation du modèle"
      ]
    },
    {
      "cell_type": "code",
      "metadata": {
        "id": "QbeA9VcE3RJx",
        "colab_type": "code",
        "colab": {}
      },
      "source": [
        "# Calcul de la prédiction\n",
        "y_pred = classif.predict(x_test)"
      ],
      "execution_count": 0,
      "outputs": []
    },
    {
      "cell_type": "code",
      "metadata": {
        "id": "K8CPsx003aaa",
        "colab_type": "code",
        "outputId": "e96bff67-8ad0-4390-eb9a-4aef3096acef",
        "colab": {
          "base_uri": "https://localhost:8080/",
          "height": 35
        }
      },
      "source": [
        "# comparaison des résultats obtenus (performance)\n",
        "scores = metrics.accuracy_score(y_test, y_pred)\n",
        "print('Accuracy :', '{:2.2%}'.format(scores))"
      ],
      "execution_count": 0,
      "outputs": [
        {
          "output_type": "stream",
          "text": [
            "Accuracy : 98.79%\n"
          ],
          "name": "stdout"
        }
      ]
    },
    {
      "cell_type": "markdown",
      "metadata": {
        "id": "mSZWUSLL6YRf",
        "colab_type": "text"
      },
      "source": [
        "# Exemple 3"
      ]
    },
    {
      "cell_type": "markdown",
      "metadata": {
        "id": "SA93OwB56dN_",
        "colab_type": "text"
      },
      "source": [
        "## Étape 1 : Chargement des données"
      ]
    },
    {
      "cell_type": "code",
      "metadata": {
        "id": "LVSmFb7564oT",
        "colab_type": "code",
        "outputId": "a9411e7e-c993-4b6f-bcea-008c08a3e406",
        "colab": {
          "base_uri": "https://localhost:8080/",
          "height": 206
        }
      },
      "source": [
        "cols_names=['pregnant', 'glucose', 'bp', 'skin', 'insulin', 'bmi', 'pedigree', 'age', 'label']\n",
        "data = pandas.read_csv('https://www.labri.fr/~zemmari/datasets/pima-indians-diabetes.csv', header=None, names=cols_names)\n",
        "data.head()"
      ],
      "execution_count": 0,
      "outputs": [
        {
          "output_type": "execute_result",
          "data": {
            "text/html": [
              "<div>\n",
              "<style scoped>\n",
              "    .dataframe tbody tr th:only-of-type {\n",
              "        vertical-align: middle;\n",
              "    }\n",
              "\n",
              "    .dataframe tbody tr th {\n",
              "        vertical-align: top;\n",
              "    }\n",
              "\n",
              "    .dataframe thead th {\n",
              "        text-align: right;\n",
              "    }\n",
              "</style>\n",
              "<table border=\"1\" class=\"dataframe\">\n",
              "  <thead>\n",
              "    <tr style=\"text-align: right;\">\n",
              "      <th></th>\n",
              "      <th>pregnant</th>\n",
              "      <th>glucose</th>\n",
              "      <th>bp</th>\n",
              "      <th>skin</th>\n",
              "      <th>insulin</th>\n",
              "      <th>bmi</th>\n",
              "      <th>pedigree</th>\n",
              "      <th>age</th>\n",
              "      <th>label</th>\n",
              "    </tr>\n",
              "  </thead>\n",
              "  <tbody>\n",
              "    <tr>\n",
              "      <th>0</th>\n",
              "      <td>6</td>\n",
              "      <td>148</td>\n",
              "      <td>72</td>\n",
              "      <td>35</td>\n",
              "      <td>0</td>\n",
              "      <td>33.6</td>\n",
              "      <td>0.627</td>\n",
              "      <td>50</td>\n",
              "      <td>1</td>\n",
              "    </tr>\n",
              "    <tr>\n",
              "      <th>1</th>\n",
              "      <td>1</td>\n",
              "      <td>85</td>\n",
              "      <td>66</td>\n",
              "      <td>29</td>\n",
              "      <td>0</td>\n",
              "      <td>26.6</td>\n",
              "      <td>0.351</td>\n",
              "      <td>31</td>\n",
              "      <td>0</td>\n",
              "    </tr>\n",
              "    <tr>\n",
              "      <th>2</th>\n",
              "      <td>8</td>\n",
              "      <td>183</td>\n",
              "      <td>64</td>\n",
              "      <td>0</td>\n",
              "      <td>0</td>\n",
              "      <td>23.3</td>\n",
              "      <td>0.672</td>\n",
              "      <td>32</td>\n",
              "      <td>1</td>\n",
              "    </tr>\n",
              "    <tr>\n",
              "      <th>3</th>\n",
              "      <td>1</td>\n",
              "      <td>89</td>\n",
              "      <td>66</td>\n",
              "      <td>23</td>\n",
              "      <td>94</td>\n",
              "      <td>28.1</td>\n",
              "      <td>0.167</td>\n",
              "      <td>21</td>\n",
              "      <td>0</td>\n",
              "    </tr>\n",
              "    <tr>\n",
              "      <th>4</th>\n",
              "      <td>0</td>\n",
              "      <td>137</td>\n",
              "      <td>40</td>\n",
              "      <td>35</td>\n",
              "      <td>168</td>\n",
              "      <td>43.1</td>\n",
              "      <td>2.288</td>\n",
              "      <td>33</td>\n",
              "      <td>1</td>\n",
              "    </tr>\n",
              "  </tbody>\n",
              "</table>\n",
              "</div>"
            ],
            "text/plain": [
              "   pregnant  glucose  bp  skin  insulin   bmi  pedigree  age  label\n",
              "0         6      148  72    35        0  33.6     0.627   50      1\n",
              "1         1       85  66    29        0  26.6     0.351   31      0\n",
              "2         8      183  64     0        0  23.3     0.672   32      1\n",
              "3         1       89  66    23       94  28.1     0.167   21      0\n",
              "4         0      137  40    35      168  43.1     2.288   33      1"
            ]
          },
          "metadata": {
            "tags": []
          },
          "execution_count": 45
        }
      ]
    },
    {
      "cell_type": "markdown",
      "metadata": {
        "id": "LH8_pG187pbO",
        "colab_type": "text"
      },
      "source": [
        "## Étape 2 : Découpage des données"
      ]
    },
    {
      "cell_type": "code",
      "metadata": {
        "id": "_ER5cewr7ood",
        "colab_type": "code",
        "colab": {}
      },
      "source": [
        "X = data.drop('label', axis=1)\n",
        "Y = data.label\n",
        "x_train, x_test, y_train, y_test = train_test_split(X, Y, test_size=.3, random_state=100)"
      ],
      "execution_count": 0,
      "outputs": []
    },
    {
      "cell_type": "markdown",
      "metadata": {
        "id": "e0Zu8VS18B-M",
        "colab_type": "text"
      },
      "source": [
        "## Étape 3 : Entrainement du modèle"
      ]
    },
    {
      "cell_type": "code",
      "metadata": {
        "id": "vCaEV8HI7jKa",
        "colab_type": "code",
        "outputId": "521b6a35-7fc3-43c4-c357-f44e9c83ecf1",
        "colab": {
          "base_uri": "https://localhost:8080/",
          "height": 124
        }
      },
      "source": [
        "# Decision Tree\n",
        "from sklearn.tree import DecisionTreeClassifier\n",
        "decision_tree = DecisionTreeClassifier()\n",
        "decision_tree.fit(x_train, y_train)"
      ],
      "execution_count": 0,
      "outputs": [
        {
          "output_type": "execute_result",
          "data": {
            "text/plain": [
              "DecisionTreeClassifier(class_weight=None, criterion='gini', max_depth=None,\n",
              "                       max_features=None, max_leaf_nodes=None,\n",
              "                       min_impurity_decrease=0.0, min_impurity_split=None,\n",
              "                       min_samples_leaf=1, min_samples_split=2,\n",
              "                       min_weight_fraction_leaf=0.0, presort=False,\n",
              "                       random_state=None, splitter='best')"
            ]
          },
          "metadata": {
            "tags": []
          },
          "execution_count": 57
        }
      ]
    },
    {
      "cell_type": "code",
      "metadata": {
        "id": "ZxgrS8WC9KfP",
        "colab_type": "code",
        "outputId": "604cf285-9f03-4cd8-b333-82d73b88f2b7",
        "colab": {
          "base_uri": "https://localhost:8080/",
          "height": 178
        }
      },
      "source": [
        "# Random Forest\n",
        "from sklearn.ensemble import RandomForestClassifier\n",
        "random_forest = RandomForestClassifier()\n",
        "random_forest.fit(x_train, y_train)"
      ],
      "execution_count": 0,
      "outputs": [
        {
          "output_type": "stream",
          "text": [
            "/usr/local/lib/python3.6/dist-packages/sklearn/ensemble/forest.py:245: FutureWarning: The default value of n_estimators will change from 10 in version 0.20 to 100 in 0.22.\n",
            "  \"10 in version 0.20 to 100 in 0.22.\", FutureWarning)\n"
          ],
          "name": "stderr"
        },
        {
          "output_type": "execute_result",
          "data": {
            "text/plain": [
              "RandomForestClassifier(bootstrap=True, class_weight=None, criterion='gini',\n",
              "                       max_depth=None, max_features='auto', max_leaf_nodes=None,\n",
              "                       min_impurity_decrease=0.0, min_impurity_split=None,\n",
              "                       min_samples_leaf=1, min_samples_split=2,\n",
              "                       min_weight_fraction_leaf=0.0, n_estimators=10,\n",
              "                       n_jobs=None, oob_score=False, random_state=None,\n",
              "                       verbose=0, warm_start=False)"
            ]
          },
          "metadata": {
            "tags": []
          },
          "execution_count": 61
        }
      ]
    },
    {
      "cell_type": "markdown",
      "metadata": {
        "id": "SJjrlCjA9o6z",
        "colab_type": "text"
      },
      "source": [
        "## Étape 4 : Évaluation du modèle"
      ]
    },
    {
      "cell_type": "code",
      "metadata": {
        "id": "WOJQGyfi9uo1",
        "colab_type": "code",
        "colab": {}
      },
      "source": [
        "# Calcul de la prédiction\n",
        "y_pred_decision_tree = decision_tree.predict(x_test)\n",
        "y_pred_random_forest = random_forest.predict(x_test)"
      ],
      "execution_count": 0,
      "outputs": []
    },
    {
      "cell_type": "code",
      "metadata": {
        "id": "sO6s-YRf90ns",
        "colab_type": "code",
        "outputId": "1bc287d6-5074-4cad-b29a-f757d33e87b7",
        "colab": {
          "base_uri": "https://localhost:8080/",
          "height": 53
        }
      },
      "source": [
        "# comparaison des résultats obtenus (performance)\n",
        "scores_decision_tree = metrics.accuracy_score(y_test, y_pred_decision_tree)\n",
        "scores_random_forest = metrics.accuracy_score(y_test, y_pred_random_forest)\n",
        "print('Accuracy Decision Tree:', '{:2.2%}'.format(scores_decision_tree))\n",
        "print('Accuracy Random Forest:', '{:2.2%}'.format(scores_random_forest))"
      ],
      "execution_count": 0,
      "outputs": [
        {
          "output_type": "stream",
          "text": [
            "Accuracy Decision Tree: 65.80%\n",
            "Accuracy Random Forest: 70.13%\n"
          ],
          "name": "stdout"
        }
      ]
    }
  ]
}
